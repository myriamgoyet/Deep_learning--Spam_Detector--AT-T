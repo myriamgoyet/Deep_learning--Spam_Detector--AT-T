{
 "cells": [
  {
   "cell_type": "markdown",
   "metadata": {},
   "source": [
    "# AT&T Spam Detector - BLOC 5\n",
    "## PART 3 : DistilBERT model with Tensorflow\n",
    "Developed by Myriam Goyet     \n",
    "Contact : https://www.linkedin.com/in/myriamgoyet/"
   ]
  },
  {
   "cell_type": "code",
   "execution_count": 3,
   "metadata": {},
   "outputs": [],
   "source": [
    "import pandas as pd\n",
    "import seaborn as sns\n",
    "import matplotlib.pyplot as plt\n",
    "\n",
    "import transformers\n",
    "from transformers import DistilBertTokenizer, TFDistilBertForSequenceClassification\n",
    "import random\n",
    "import numpy as np\n",
    "import tensorflow as tf\n",
    "import time\n",
    "from sklearn.model_selection import train_test_split, StratifiedKFold\n",
    "from sklearn.metrics import f1_score, classification_report, accuracy_score, precision_score, recall_score,confusion_matrix\n",
    "from transformers import AutoTokenizer\n",
    "from sklearn.utils.class_weight import compute_class_weight \n",
    "import os\n",
    "import json\n",
    "from tensorflow.keras.callbacks import EarlyStopping\n",
    "import collections\n",
    "\n",
    "\n",
    "\n",
    "\n"
   ]
  },
  {
   "cell_type": "markdown",
   "metadata": {},
   "source": [
    "# 1. Load data and model"
   ]
  },
  {
   "cell_type": "code",
   "execution_count": 2,
   "metadata": {},
   "outputs": [],
   "source": [
    "df3 = pd.read_csv('AT&T_data_preprocessed.csv')\n",
    "# Replace missing values with an empty string and convert everything to strings\n",
    "df3['clean_data'] = df3['clean_data'].fillna('').astype(str)"
   ]
  },
  {
   "cell_type": "markdown",
   "metadata": {},
   "source": [
    "For this second try, we will fine-tune a BERT model:\n",
    "BERT (Bidirectional Encoder Representations from Transformers) is a model designed for understanding human language and is abble to grasp the context of words based on their surroundings.\n",
    "\n",
    "Here, we will use **distilbert-base-uncased**, a smaller, faster version of the BERT language model. It retains most of BERT's capabilities while being more efficient. Created using a process called distillation, it learns from BERT but requires less computational power, making it ideal for environments with limited resources. Despite its reduced size, DistilBERT performs nearly as well as BERT in understanding and processing language tasks."
   ]
  },
  {
   "cell_type": "code",
   "execution_count": 4,
   "metadata": {},
   "outputs": [
    {
     "name": "stderr",
     "output_type": "stream",
     "text": [
      "/home/zeus/miniconda3/envs/cloudspace/lib/python3.10/site-packages/huggingface_hub/file_download.py:797: FutureWarning: `resume_download` is deprecated and will be removed in version 1.0.0. Downloads always resume when possible. If you want to force a new download, use `force_download=True`.\n",
      "  warnings.warn(\n",
      "Some weights of the PyTorch model were not used when initializing the TF 2.0 model TFDistilBertForSequenceClassification: ['vocab_transform.weight', 'vocab_layer_norm.bias', 'vocab_projector.bias', 'vocab_transform.bias', 'vocab_layer_norm.weight']\n",
      "- This IS expected if you are initializing TFDistilBertForSequenceClassification from a PyTorch model trained on another task or with another architecture (e.g. initializing a TFBertForSequenceClassification model from a BertForPreTraining model).\n",
      "- This IS NOT expected if you are initializing TFDistilBertForSequenceClassification from a PyTorch model that you expect to be exactly identical (e.g. initializing a TFBertForSequenceClassification model from a BertForSequenceClassification model).\n",
      "Some weights or buffers of the TF 2.0 model TFDistilBertForSequenceClassification were not initialized from the PyTorch model and are newly initialized: ['pre_classifier.weight', 'pre_classifier.bias', 'classifier.weight', 'classifier.bias']\n",
      "You should probably TRAIN this model on a down-stream task to be able to use it for predictions and inference.\n"
     ]
    }
   ],
   "source": [
    "# Loading pretrained model/tokenizer\n",
    "tokenizer = transformers.DistilBertTokenizer.from_pretrained(\"distilbert-base-uncased\")\n",
    "model = TFDistilBertForSequenceClassification.from_pretrained(\"distilbert-base-uncased\", num_labels=1)"
   ]
  },
  {
   "cell_type": "markdown",
   "metadata": {},
   "source": [
    "# 2. Train model "
   ]
  },
  {
   "cell_type": "code",
   "execution_count": 8,
   "metadata": {},
   "outputs": [
    {
     "name": "stderr",
     "output_type": "stream",
     "text": [
      "/home/zeus/miniconda3/envs/cloudspace/lib/python3.10/site-packages/huggingface_hub/file_download.py:797: FutureWarning: `resume_download` is deprecated and will be removed in version 1.0.0. Downloads always resume when possible. If you want to force a new download, use `force_download=True`.\n",
      "  warnings.warn(\n"
     ]
    },
    {
     "name": "stdout",
     "output_type": "stream",
     "text": [
      "Class weights: {0: 0.5722872508699779, 1: 3.9584245076586435}\n"
     ]
    },
    {
     "name": "stderr",
     "output_type": "stream",
     "text": [
      "/home/zeus/miniconda3/envs/cloudspace/lib/python3.10/site-packages/huggingface_hub/file_download.py:797: FutureWarning: `resume_download` is deprecated and will be removed in version 1.0.0. Downloads always resume when possible. If you want to force a new download, use `force_download=True`.\n",
      "  warnings.warn(\n",
      "Some weights of the PyTorch model were not used when initializing the TF 2.0 model TFDistilBertForSequenceClassification: ['vocab_layer_norm.bias', 'vocab_layer_norm.weight', 'vocab_transform.bias', 'vocab_transform.weight', 'vocab_projector.bias']\n",
      "- This IS expected if you are initializing TFDistilBertForSequenceClassification from a PyTorch model trained on another task or with another architecture (e.g. initializing a TFBertForSequenceClassification model from a BertForPreTraining model).\n",
      "- This IS NOT expected if you are initializing TFDistilBertForSequenceClassification from a PyTorch model that you expect to be exactly identical (e.g. initializing a TFBertForSequenceClassification model from a BertForSequenceClassification model).\n",
      "Some weights or buffers of the TF 2.0 model TFDistilBertForSequenceClassification were not initialized from the PyTorch model and are newly initialized: ['pre_classifier.weight', 'pre_classifier.bias', 'classifier.weight', 'classifier.bias']\n",
      "You should probably TRAIN this model on a down-stream task to be able to use it for predictions and inference.\n"
     ]
    }
   ],
   "source": [
    "# Set seed for reproducibility\n",
    "seed = 42\n",
    "random.seed(seed)\n",
    "np.random.seed(seed)\n",
    "tf.random.set_seed(seed)\n",
    "\n",
    "# train_test_split \n",
    "xtrain, xval, ytrain, yval = train_test_split(\n",
    "    df3, df3[\"target\"], stratify=df3[\"target\"], test_size=0.3, random_state=seed\n",
    ")\n",
    "\n",
    "\n",
    "train_texts = xtrain[\"clean_data\"].tolist()\n",
    "val_texts = xval[\"clean_data\"].tolist()\n",
    "train_labels = ytrain.tolist()\n",
    "val_labels = yval.tolist()\n",
    "\n",
    "# 2. Tokenization\n",
    "tokenizer = AutoTokenizer.from_pretrained(\"distilbert-base-uncased\")\n",
    "train_enc = tokenizer(train_texts, truncation=True, padding=True, max_length=130)\n",
    "val_enc = tokenizer(val_texts, truncation=True, padding=True, max_length=130)\n",
    "\n",
    "def to_tf_dataset(encodings, labels):\n",
    "    return tf.data.Dataset.from_tensor_slices((\n",
    "        {\n",
    "            \"input_ids\": tf.constant(encodings[\"input_ids\"]),\n",
    "            \"attention_mask\": tf.constant(encodings[\"attention_mask\"]),\n",
    "        },\n",
    "        tf.constant(labels)\n",
    "    ))\n",
    "\n",
    "train_dataset = to_tf_dataset(train_enc, train_labels).shuffle(1000, seed=seed).batch(32).prefetch(tf.data.AUTOTUNE)\n",
    "val_dataset = to_tf_dataset(val_enc, val_labels).batch(32).prefetch(tf.data.AUTOTUNE)\n",
    "\n",
    "# 3. Compute class weights\n",
    "computed_weights = compute_class_weight(\n",
    "    class_weight='balanced',\n",
    "    classes=np.unique(train_labels),\n",
    "    y=train_labels\n",
    ")\n",
    "class_weights = {i: float(w) for i, w in enumerate(computed_weights)}\n",
    "print(\"Class weights:\", class_weights)\n",
    "\n",
    "# 4. Model\n",
    "model = TFDistilBertForSequenceClassification.from_pretrained(\"distilbert-base-uncased\", num_labels=1)\n",
    "\n",
    "# Unfreeze last 4 layers\n",
    "for layer in model.distilbert.transformer.layer[:-4]:\n",
    "    layer.trainable = False\n",
    "\n",
    "# Compile\n",
    "optimizer = tf.keras.optimizers.Adam(learning_rate=5e-5)\n",
    "model.compile(\n",
    "    optimizer=optimizer,\n",
    "    loss=tf.keras.losses.BinaryCrossentropy(from_logits=True),\n",
    "    metrics=[tf.keras.metrics.BinaryAccuracy()]\n",
    ")\n",
    "\n",
    "# Callbacks\n",
    "callbacks = [\n",
    "    tf.keras.callbacks.EarlyStopping(monitor=\"val_loss\", patience=2, restore_best_weights=True),\n",
    "    tf.keras.callbacks.ReduceLROnPlateau(monitor=\"val_loss\", factor=0.5, patience=1)\n",
    "]\n"
   ]
  },
  {
   "cell_type": "code",
   "execution_count": 5,
   "metadata": {},
   "outputs": [
    {
     "name": "stderr",
     "output_type": "stream",
     "text": [
      "/home/zeus/miniconda3/envs/cloudspace/lib/python3.10/site-packages/huggingface_hub/file_download.py:797: FutureWarning: `resume_download` is deprecated and will be removed in version 1.0.0. Downloads always resume when possible. If you want to force a new download, use `force_download=True`.\n",
      "  warnings.warn(\n"
     ]
    },
    {
     "name": "stdout",
     "output_type": "stream",
     "text": [
      "Class weights: {0: 0.5722872508699779, 1: 3.9584245076586435}\n"
     ]
    },
    {
     "name": "stderr",
     "output_type": "stream",
     "text": [
      "/home/zeus/miniconda3/envs/cloudspace/lib/python3.10/site-packages/huggingface_hub/file_download.py:797: FutureWarning: `resume_download` is deprecated and will be removed in version 1.0.0. Downloads always resume when possible. If you want to force a new download, use `force_download=True`.\n",
      "  warnings.warn(\n",
      "Some weights of the PyTorch model were not used when initializing the TF 2.0 model TFDistilBertForSequenceClassification: ['vocab_transform.weight', 'vocab_layer_norm.bias', 'vocab_projector.bias', 'vocab_transform.bias', 'vocab_layer_norm.weight']\n",
      "- This IS expected if you are initializing TFDistilBertForSequenceClassification from a PyTorch model trained on another task or with another architecture (e.g. initializing a TFBertForSequenceClassification model from a BertForPreTraining model).\n",
      "- This IS NOT expected if you are initializing TFDistilBertForSequenceClassification from a PyTorch model that you expect to be exactly identical (e.g. initializing a TFBertForSequenceClassification model from a BertForSequenceClassification model).\n",
      "Some weights or buffers of the TF 2.0 model TFDistilBertForSequenceClassification were not initialized from the PyTorch model and are newly initialized: ['pre_classifier.weight', 'pre_classifier.bias', 'classifier.weight', 'classifier.bias']\n",
      "You should probably TRAIN this model on a down-stream task to be able to use it for predictions and inference.\n"
     ]
    },
    {
     "name": "stdout",
     "output_type": "stream",
     "text": [
      "Epoch 1/5\n"
     ]
    },
    {
     "name": "stderr",
     "output_type": "stream",
     "text": [
      "2025-07-08 19:39:14.290499: I tensorflow/core/common_runtime/executor.cc:1197] [/device:CPU:0] (DEBUG INFO) Executor start aborting (this does not indicate an error and you can ignore this message): INVALID_ARGUMENT: You must feed a value for placeholder tensor 'Placeholder/_1' with dtype int32 and shape [3618,130]\n",
      "\t [[{{node Placeholder/_1}}]]\n",
      "2025-07-08 19:39:14.292915: I tensorflow/core/common_runtime/executor.cc:1197] [/device:CPU:0] (DEBUG INFO) Executor start aborting (this does not indicate an error and you can ignore this message): INVALID_ARGUMENT: You must feed a value for placeholder tensor 'Placeholder/_14' with dtype float and shape [2]\n",
      "\t [[{{node Placeholder/_14}}]]\n"
     ]
    },
    {
     "name": "stdout",
     "output_type": "stream",
     "text": [
      "114/114 [==============================] - ETA: 0s - loss: 0.1800 - binary_accuracy: 0.9696"
     ]
    },
    {
     "name": "stderr",
     "output_type": "stream",
     "text": [
      "2025-07-08 19:47:37.693517: I tensorflow/core/common_runtime/executor.cc:1197] [/device:CPU:0] (DEBUG INFO) Executor start aborting (this does not indicate an error and you can ignore this message): INVALID_ARGUMENT: You must feed a value for placeholder tensor 'Placeholder/_2' with dtype int32 and shape [1551]\n",
      "\t [[{{node Placeholder/_2}}]]\n"
     ]
    },
    {
     "name": "stdout",
     "output_type": "stream",
     "text": [
      "114/114 [==============================] - 561s 5s/step - loss: 0.1800 - binary_accuracy: 0.9696 - val_loss: 0.0721 - val_binary_accuracy: 0.9845 - lr: 5.0000e-05\n",
      "Epoch 2/5\n",
      "114/114 [==============================] - 527s 5s/step - loss: 0.0517 - binary_accuracy: 0.9914 - val_loss: 0.1299 - val_binary_accuracy: 0.9742 - lr: 5.0000e-05\n",
      "Epoch 3/5\n",
      "114/114 [==============================] - 539s 5s/step - loss: 0.0201 - binary_accuracy: 0.9950 - val_loss: 0.0439 - val_binary_accuracy: 0.9884 - lr: 2.5000e-05\n",
      "Epoch 4/5\n",
      "114/114 [==============================] - 541s 5s/step - loss: 0.0049 - binary_accuracy: 0.9994 - val_loss: 0.0527 - val_binary_accuracy: 0.9877 - lr: 2.5000e-05\n",
      "Epoch 5/5\n",
      "114/114 [==============================] - 521s 5s/step - loss: 0.0019 - binary_accuracy: 1.0000 - val_loss: 0.0511 - val_binary_accuracy: 0.9884 - lr: 1.2500e-05\n",
      "Training took 2688.54 seconds (44.81 minutes)\n"
     ]
    }
   ],
   "source": [
    "# 5. Train with class weights\n",
    "\n",
    "# Record the start time\n",
    "start_time = time.time()\n",
    "\n",
    "history = model.fit(\n",
    "    train_dataset,\n",
    "    validation_data=val_dataset,\n",
    "    epochs=5,\n",
    "    callbacks=callbacks,\n",
    "    class_weight=class_weights\n",
    ")\n",
    "\n",
    "# Record the end time\n",
    "end_time = time.time()\n",
    "\n",
    "# Calculate the duration\n",
    "training_duration = end_time - start_time\n",
    "print(f\"Training took {training_duration:.2f} seconds ({training_duration / 60:.2f} minutes)\")\n",
    "\n"
   ]
  },
  {
   "cell_type": "code",
   "execution_count": 6,
   "metadata": {},
   "outputs": [],
   "source": [
    "# Save model to Hugging Face-compatible directory\n",
    "def save_model_and_tokenizer(model, tokenizer, save_dir):\n",
    "    os.makedirs(save_dir, exist_ok=True)\n",
    "    model.save_pretrained(save_dir)\n",
    "    tokenizer.save_pretrained(save_dir)\n",
    "    print(f\"✅ Model and tokenizer saved to: {save_dir}\")"
   ]
  },
  {
   "cell_type": "code",
   "execution_count": 7,
   "metadata": {},
   "outputs": [
    {
     "name": "stdout",
     "output_type": "stream",
     "text": [
      "✅ Model and tokenizer saved to: Models_trained/DistilBERT_ft\n"
     ]
    }
   ],
   "source": [
    "save_model_and_tokenizer(model, tokenizer, save_dir=\"Models_trained/DistilBERT_ft\")"
   ]
  },
  {
   "cell_type": "markdown",
   "metadata": {},
   "source": [
    "# 3. Evaluate Model and save metrics"
   ]
  },
  {
   "cell_type": "code",
   "execution_count": 8,
   "metadata": {},
   "outputs": [],
   "source": [
    "def evaluate_model(model, train_dataset, val_dataset, model_name=\"model\", output_dir=\"Evaluations\"):\n",
    "    # 1. Make predictions\n",
    "    y_pred_train_logits = model.predict(train_dataset).logits\n",
    "    y_pred_val_logits = model.predict(val_dataset).logits\n",
    "\n",
    "    # Convert logits to probabilities (sigmoid) and then to binary predictions\n",
    "    y_pred_train = (tf.sigmoid(y_pred_train_logits).numpy().flatten() > 0.5).astype(int)\n",
    "    y_pred_val = (tf.sigmoid(y_pred_val_logits).numpy().flatten() > 0.5).astype(int)\n",
    "\n",
    "    # 2. Extract ground-truth labels from datasets\n",
    "    y_true_train = np.concatenate([y.numpy() for _, y in train_dataset])\n",
    "    y_true_val = np.concatenate([y.numpy() for _, y in val_dataset])\n",
    "\n",
    "    # 3. Classification report\n",
    "    report_train = classification_report(y_true_train, y_pred_train, output_dict=True)\n",
    "    report_val = classification_report(y_true_val, y_pred_val, output_dict=True)\n",
    "\n",
    "    print(\"📊 Classification Report — Train\")\n",
    "    print(classification_report(y_true_train, y_pred_train))\n",
    "    print(\"\\n📊 Classification Report — Validation\")\n",
    "    print(classification_report(y_true_val, y_pred_val))\n",
    "\n",
    "    # 4. Confusion matrices\n",
    "    cm_train = confusion_matrix(y_true_train, y_pred_train)\n",
    "    cm_val = confusion_matrix(y_true_val, y_pred_val)\n",
    "\n",
    "    sns.heatmap(cm_train, annot=True, fmt='d', cmap='Blues', xticklabels=['Ham', 'Spam'], yticklabels=['Ham', 'Spam'])\n",
    "    plt.title(f\"Confusion Matrix - Train ({model_name})\")\n",
    "    plt.xlabel(\"Predicted\")\n",
    "    plt.ylabel(\"Actual\")\n",
    "    plt.show()\n",
    "\n",
    "    sns.heatmap(cm_val, annot=True, fmt='d', cmap='Blues', xticklabels=['Ham', 'Spam'], yticklabels=['Ham', 'Spam'])\n",
    "    plt.title(f\"Confusion Matrix - Validation ({model_name})\")\n",
    "    plt.xlabel(\"Predicted\")\n",
    "    plt.ylabel(\"Actual\")\n",
    "    plt.show()\n",
    "\n",
    "    # 5. Summary metrics\n",
    "    summary_train = {\n",
    "        \"accuracy\": accuracy_score(y_true_train, y_pred_train),\n",
    "        \"precision\": report_train[\"weighted avg\"][\"precision\"],\n",
    "        \"recall\": report_train[\"weighted avg\"][\"recall\"],\n",
    "        \"f1-score\": report_train[\"weighted avg\"][\"f1-score\"]\n",
    "    }\n",
    "\n",
    "    summary_val = {\n",
    "        \"accuracy\": accuracy_score(y_true_val, y_pred_val),\n",
    "        \"precision\": report_val[\"weighted avg\"][\"precision\"],\n",
    "        \"recall\": report_val[\"weighted avg\"][\"recall\"],\n",
    "        \"f1-score\": report_val[\"weighted avg\"][\"f1-score\"]\n",
    "    }\n",
    "\n",
    "    # 6. Save all metrics\n",
    "    os.makedirs(output_dir, exist_ok=True)\n",
    "    metrics = {\n",
    "        \"model_name\": model_name,\n",
    "        \"train_metrics\": report_train,\n",
    "        \"val_metrics\": report_val,\n",
    "        \"train_summary\": summary_train,\n",
    "        \"val_summary\": summary_val\n",
    "    }\n",
    "    json_path = os.path.join(output_dir, f\"{model_name}_metrics.json\")\n",
    "    with open(json_path, \"w\") as f:\n",
    "        json.dump(metrics, f, indent=4)\n",
    "    print(f\"✅ Metrics saved to {json_path}\")\n",
    "\n"
   ]
  },
  {
   "cell_type": "code",
   "execution_count": 9,
   "metadata": {},
   "outputs": [
    {
     "name": "stderr",
     "output_type": "stream",
     "text": [
      "2025-07-08 20:24:03.289329: I tensorflow/core/common_runtime/executor.cc:1197] [/device:CPU:0] (DEBUG INFO) Executor start aborting (this does not indicate an error and you can ignore this message): INVALID_ARGUMENT: You must feed a value for placeholder tensor 'Placeholder/_0' with dtype int32 and shape [3618,130]\n",
      "\t [[{{node Placeholder/_0}}]]\n",
      "2025-07-08 20:24:03.289605: I tensorflow/core/common_runtime/executor.cc:1197] [/device:CPU:0] (DEBUG INFO) Executor start aborting (this does not indicate an error and you can ignore this message): INVALID_ARGUMENT: You must feed a value for placeholder tensor 'Placeholder/_0' with dtype int32 and shape [3618,130]\n",
      "\t [[{{node Placeholder/_0}}]]\n"
     ]
    },
    {
     "name": "stdout",
     "output_type": "stream",
     "text": [
      " 19/114 [====>.........................] - ETA: 2:01"
     ]
    },
    {
     "name": "stdout",
     "output_type": "stream",
     "text": [
      "114/114 [==============================] - 150s 1s/step\n",
      "49/49 [==============================] - 68s 1s/step\n",
      "📊 Classification Report — Train\n",
      "              precision    recall  f1-score   support\n",
      "\n",
      "           0       0.87      0.87      0.87      3161\n",
      "           1       0.11      0.11      0.11       457\n",
      "\n",
      "    accuracy                           0.78      3618\n",
      "   macro avg       0.49      0.49      0.49      3618\n",
      "weighted avg       0.78      0.78      0.78      3618\n",
      "\n",
      "\n",
      "📊 Classification Report — Validation\n",
      "              precision    recall  f1-score   support\n",
      "\n",
      "           0       0.99      0.99      0.99      1355\n",
      "           1       0.94      0.95      0.95       196\n",
      "\n",
      "    accuracy                           0.99      1551\n",
      "   macro avg       0.97      0.97      0.97      1551\n",
      "weighted avg       0.99      0.99      0.99      1551\n",
      "\n"
     ]
    },
    {
     "data": {
      "image/png": "[encoded data removed]",
      "text/plain": [
       "<Figure size 640x480 with 2 Axes>"
      ]
     },
     "metadata": {},
     "output_type": "display_data"
    },
    {
     "data": {
      "image/png": "[encoded data removed]",
      "text/plain": [
       "<Figure size 640x480 with 2 Axes>"
      ]
     },
     "metadata": {},
     "output_type": "display_data"
    },
    {
     "name": "stdout",
     "output_type": "stream",
     "text": [
      "✅ Metrics saved to Evaluations/DistilBERT_ft_metrics.json\n"
     ]
    }
   ],
   "source": [
    "evaluate_model(model, train_dataset, val_dataset, model_name=\"DistilBERT_ft\")"
   ]
  },
  {
   "cell_type": "markdown",
   "metadata": {},
   "source": [
    "Our model is not good at identifying Spams (recall at 0.11 in train set)...   "
   ]
  },
  {
   "cell_type": "markdown",
   "metadata": {},
   "source": [
    "# 4. Optimisation of the threshold"
   ]
  },
  {
   "cell_type": "code",
   "execution_count": 10,
   "metadata": {},
   "outputs": [
    {
     "name": "stderr",
     "output_type": "stream",
     "text": [
      "/home/zeus/miniconda3/envs/cloudspace/lib/python3.10/site-packages/huggingface_hub/file_download.py:797: FutureWarning: `resume_download` is deprecated and will be removed in version 1.0.0. Downloads always resume when possible. If you want to force a new download, use `force_download=True`.\n",
      "  warnings.warn(\n"
     ]
    }
   ],
   "source": [
    "# Tokenizer\n",
    "tokenizer = AutoTokenizer.from_pretrained(\"distilbert-base-uncased\")\n",
    "\n",
    "# Tokenize function\n",
    "def tokenize_texts(texts):\n",
    "    return tokenizer(texts, truncation=True, padding=True, max_length=130)\n",
    "\n",
    "# TensorFlow dataset conversion\n",
    "def to_tf_dataset(encodings, labels):\n",
    "    return tf.data.Dataset.from_tensor_slices((\n",
    "        {\n",
    "            \"input_ids\": tf.constant(encodings[\"input_ids\"]),\n",
    "            \"attention_mask\": tf.constant(encodings[\"attention_mask\"]),\n",
    "        },\n",
    "        tf.constant(labels)\n",
    "    )).batch(32)\n",
    "\n",
    "# K-Fold Threshold Optimization\n",
    "def optimize_thresholds_kfold(df, tokenizer, n_splits=5):\n",
    "    skf = StratifiedKFold(n_splits=n_splits, shuffle=True, random_state=seed)\n",
    "    thresholds_all = []\n",
    "\n",
    "    for fold, (train_idx, val_idx) in enumerate(skf.split(df[\"clean_data\"], df[\"target\"])):\n",
    "        print(f\"\\n🔁 Fold {fold + 1}\")\n",
    "        xtrain, xval = df.iloc[train_idx], df.iloc[val_idx]\n",
    "        ytrain, yval = xtrain[\"target\"].tolist(), xval[\"target\"].tolist()\n",
    "\n",
    "        # Tokenization\n",
    "        train_enc = tokenize_texts(xtrain[\"clean_data\"].tolist())\n",
    "        val_enc = tokenize_texts(xval[\"clean_data\"].tolist())\n",
    "\n",
    "        # TF Datasets\n",
    "        train_dataset = to_tf_dataset(train_enc, ytrain)\n",
    "        val_dataset = to_tf_dataset(val_enc, yval)\n",
    "\n",
    "        # Model\n",
    "        model = TFDistilBertForSequenceClassification.from_pretrained(\"distilbert-base-uncased\", num_labels=1)\n",
    "        model.compile(\n",
    "            optimizer=tf.keras.optimizers.Adam(learning_rate=5e-5),\n",
    "            loss=tf.keras.losses.BinaryCrossentropy(from_logits=True),\n",
    "            metrics=[tf.keras.metrics.BinaryAccuracy()]\n",
    "        )\n",
    "\n",
    "        # Training (short for speed)\n",
    "        model.fit(train_dataset, epochs=3, callbacks=[\n",
    "            EarlyStopping(monitor=\"loss\", patience=1, restore_best_weights=True)\n",
    "        ], verbose=0)\n",
    "\n",
    "        # Predictions\n",
    "        probs = tf.sigmoid(model.predict(val_dataset).logits).numpy().flatten()\n",
    "\n",
    "        # Threshold search\n",
    "        thresholds = np.arange(0.1, 0.9, 0.05)\n",
    "        best_f1, best_t = 0, 0.5\n",
    "\n",
    "        for t in thresholds:\n",
    "            preds = (probs >= t).astype(int)\n",
    "            f1 = f1_score(yval, preds)\n",
    "            if f1 > best_f1:\n",
    "                best_f1 = f1\n",
    "                best_t = t\n",
    "\n",
    "        print(f\"✅ Fold {fold+1} best threshold: {best_t} (F1: {best_f1:.4f})\")\n",
    "        thresholds_all.append((best_t, best_f1))\n",
    "\n",
    "    # Moyenne simple\n",
    "    raw_thresholds = [t for t, _ in thresholds_all]\n",
    "    mean_threshold = np.mean(raw_thresholds)\n",
    "\n",
    "    # Moyenne pondérée par F1\n",
    "    weighted_threshold = np.average(\n",
    "        [t for t, _ in thresholds_all], weights=[f for _, f in thresholds_all]\n",
    "    )\n",
    "\n",
    "    print(f\"\\n📊 Threshold for each fold: {raw_thresholds}\")\n",
    "    print(f\"🔧 Mean Threshold : {mean_threshold:.4f}\")\n",
    "    print(f\"🏋️ Weighted Threshold (F1): {weighted_threshold:.4f}\")\n",
    "\n",
    "    return raw_thresholds, mean_threshold, weighted_threshold\n"
   ]
  },
  {
   "cell_type": "code",
   "execution_count": 11,
   "metadata": {},
   "outputs": [
    {
     "name": "stdout",
     "output_type": "stream",
     "text": [
      "\n",
      "🔁 Fold 1\n"
     ]
    },
    {
     "name": "stderr",
     "output_type": "stream",
     "text": [
      "/home/zeus/miniconda3/envs/cloudspace/lib/python3.10/site-packages/huggingface_hub/file_download.py:797: FutureWarning: `resume_download` is deprecated and will be removed in version 1.0.0. Downloads always resume when possible. If you want to force a new download, use `force_download=True`.\n",
      "  warnings.warn(\n",
      "Some weights of the PyTorch model were not used when initializing the TF 2.0 model TFDistilBertForSequenceClassification: ['vocab_transform.weight', 'vocab_layer_norm.bias', 'vocab_projector.bias', 'vocab_transform.bias', 'vocab_layer_norm.weight']\n",
      "- This IS expected if you are initializing TFDistilBertForSequenceClassification from a PyTorch model trained on another task or with another architecture (e.g. initializing a TFBertForSequenceClassification model from a BertForPreTraining model).\n",
      "- This IS NOT expected if you are initializing TFDistilBertForSequenceClassification from a PyTorch model that you expect to be exactly identical (e.g. initializing a TFBertForSequenceClassification model from a BertForSequenceClassification model).\n",
      "Some weights or buffers of the TF 2.0 model TFDistilBertForSequenceClassification were not initialized from the PyTorch model and are newly initialized: ['pre_classifier.weight', 'pre_classifier.bias', 'classifier.weight', 'classifier.bias']\n",
      "You should probably TRAIN this model on a down-stream task to be able to use it for predictions and inference.\n",
      "2025-07-08 20:27:43.152525: I tensorflow/core/common_runtime/executor.cc:1197] [/device:CPU:0] (DEBUG INFO) Executor start aborting (this does not indicate an error and you can ignore this message): INVALID_ARGUMENT: You must feed a value for placeholder tensor 'Placeholder/_2' with dtype int32 and shape [4135]\n",
      "\t [[{{node Placeholder/_2}}]]\n",
      "2025-07-08 20:51:26.002604: I tensorflow/core/common_runtime/executor.cc:1197] [/device:CPU:0] (DEBUG INFO) Executor start aborting (this does not indicate an error and you can ignore this message): INVALID_ARGUMENT: You must feed a value for placeholder tensor 'Placeholder/_2' with dtype int32 and shape [1034]\n",
      "\t [[{{node Placeholder/_2}}]]\n"
     ]
    },
    {
     "name": "stdout",
     "output_type": "stream",
     "text": [
      "33/33 [==============================] - 39s 1s/step\n",
      "✅ Fold 1 best threshold: 0.1 (F1: 0.9520)\n",
      "\n",
      "🔁 Fold 2\n"
     ]
    },
    {
     "name": "stderr",
     "output_type": "stream",
     "text": [
      "/home/zeus/miniconda3/envs/cloudspace/lib/python3.10/site-packages/huggingface_hub/file_download.py:797: FutureWarning: `resume_download` is deprecated and will be removed in version 1.0.0. Downloads always resume when possible. If you want to force a new download, use `force_download=True`.\n",
      "  warnings.warn(\n",
      "Some weights of the PyTorch model were not used when initializing the TF 2.0 model TFDistilBertForSequenceClassification: ['vocab_transform.weight', 'vocab_layer_norm.bias', 'vocab_projector.bias', 'vocab_transform.bias', 'vocab_layer_norm.weight']\n",
      "- This IS expected if you are initializing TFDistilBertForSequenceClassification from a PyTorch model trained on another task or with another architecture (e.g. initializing a TFBertForSequenceClassification model from a BertForPreTraining model).\n",
      "- This IS NOT expected if you are initializing TFDistilBertForSequenceClassification from a PyTorch model that you expect to be exactly identical (e.g. initializing a TFBertForSequenceClassification model from a BertForSequenceClassification model).\n",
      "Some weights or buffers of the TF 2.0 model TFDistilBertForSequenceClassification were not initialized from the PyTorch model and are newly initialized: ['pre_classifier.weight', 'pre_classifier.bias', 'classifier.weight', 'classifier.bias']\n",
      "You should probably TRAIN this model on a down-stream task to be able to use it for predictions and inference.\n",
      "2025-07-08 20:52:06.418345: I tensorflow/core/common_runtime/executor.cc:1197] [/device:CPU:0] (DEBUG INFO) Executor start aborting (this does not indicate an error and you can ignore this message): INVALID_ARGUMENT: You must feed a value for placeholder tensor 'Placeholder/_2' with dtype int32 and shape [4135]\n",
      "\t [[{{node Placeholder/_2}}]]\n",
      "2025-07-08 21:18:19.525196: I tensorflow/core/common_runtime/executor.cc:1197] [/device:CPU:0] (DEBUG INFO) Executor start aborting (this does not indicate an error and you can ignore this message): INVALID_ARGUMENT: You must feed a value for placeholder tensor 'Placeholder/_2' with dtype int32 and shape [1034]\n",
      "\t [[{{node Placeholder/_2}}]]\n"
     ]
    },
    {
     "name": "stdout",
     "output_type": "stream",
     "text": [
      "33/33 [==============================] - 41s 1s/step\n",
      "✅ Fold 2 best threshold: 0.1 (F1: 0.9885)\n",
      "\n",
      "🔁 Fold 3\n"
     ]
    },
    {
     "name": "stderr",
     "output_type": "stream",
     "text": [
      "/home/zeus/miniconda3/envs/cloudspace/lib/python3.10/site-packages/huggingface_hub/file_download.py:797: FutureWarning: `resume_download` is deprecated and will be removed in version 1.0.0. Downloads always resume when possible. If you want to force a new download, use `force_download=True`.\n",
      "  warnings.warn(\n",
      "Some weights of the PyTorch model were not used when initializing the TF 2.0 model TFDistilBertForSequenceClassification: ['vocab_transform.weight', 'vocab_layer_norm.bias', 'vocab_projector.bias', 'vocab_transform.bias', 'vocab_layer_norm.weight']\n",
      "- This IS expected if you are initializing TFDistilBertForSequenceClassification from a PyTorch model trained on another task or with another architecture (e.g. initializing a TFBertForSequenceClassification model from a BertForPreTraining model).\n",
      "- This IS NOT expected if you are initializing TFDistilBertForSequenceClassification from a PyTorch model that you expect to be exactly identical (e.g. initializing a TFBertForSequenceClassification model from a BertForSequenceClassification model).\n",
      "Some weights or buffers of the TF 2.0 model TFDistilBertForSequenceClassification were not initialized from the PyTorch model and are newly initialized: ['pre_classifier.weight', 'pre_classifier.bias', 'classifier.weight', 'classifier.bias']\n",
      "You should probably TRAIN this model on a down-stream task to be able to use it for predictions and inference.\n",
      "2025-07-08 21:19:01.968314: I tensorflow/core/common_runtime/executor.cc:1197] [/device:CPU:0] (DEBUG INFO) Executor start aborting (this does not indicate an error and you can ignore this message): INVALID_ARGUMENT: You must feed a value for placeholder tensor 'Placeholder/_2' with dtype int32 and shape [4135]\n",
      "\t [[{{node Placeholder/_2}}]]\n",
      "2025-07-08 21:50:48.494927: I tensorflow/core/common_runtime/executor.cc:1197] [/device:CPU:0] (DEBUG INFO) Executor start aborting (this does not indicate an error and you can ignore this message): INVALID_ARGUMENT: You must feed a value for placeholder tensor 'Placeholder/_2' with dtype int32 and shape [1034]\n",
      "\t [[{{node Placeholder/_2}}]]\n"
     ]
    },
    {
     "name": "stdout",
     "output_type": "stream",
     "text": [
      "33/33 [==============================] - 30s 883ms/step\n",
      "✅ Fold 3 best threshold: 0.1 (F1: 0.9615)\n",
      "\n",
      "🔁 Fold 4\n"
     ]
    },
    {
     "name": "stderr",
     "output_type": "stream",
     "text": [
      "/home/zeus/miniconda3/envs/cloudspace/lib/python3.10/site-packages/huggingface_hub/file_download.py:797: FutureWarning: `resume_download` is deprecated and will be removed in version 1.0.0. Downloads always resume when possible. If you want to force a new download, use `force_download=True`.\n",
      "  warnings.warn(\n",
      "Some weights of the PyTorch model were not used when initializing the TF 2.0 model TFDistilBertForSequenceClassification: ['vocab_transform.weight', 'vocab_layer_norm.bias', 'vocab_projector.bias', 'vocab_transform.bias', 'vocab_layer_norm.weight']\n",
      "- This IS expected if you are initializing TFDistilBertForSequenceClassification from a PyTorch model trained on another task or with another architecture (e.g. initializing a TFBertForSequenceClassification model from a BertForPreTraining model).\n",
      "- This IS NOT expected if you are initializing TFDistilBertForSequenceClassification from a PyTorch model that you expect to be exactly identical (e.g. initializing a TFBertForSequenceClassification model from a BertForSequenceClassification model).\n",
      "Some weights or buffers of the TF 2.0 model TFDistilBertForSequenceClassification were not initialized from the PyTorch model and are newly initialized: ['pre_classifier.weight', 'pre_classifier.bias', 'classifier.weight', 'classifier.bias']\n",
      "You should probably TRAIN this model on a down-stream task to be able to use it for predictions and inference.\n",
      "2025-07-08 21:51:19.575718: I tensorflow/core/common_runtime/executor.cc:1197] [/device:CPU:0] (DEBUG INFO) Executor start aborting (this does not indicate an error and you can ignore this message): INVALID_ARGUMENT: You must feed a value for placeholder tensor 'Placeholder/_2' with dtype int32 and shape [4135]\n",
      "\t [[{{node Placeholder/_2}}]]\n",
      "2025-07-08 22:23:44.964084: I tensorflow/core/common_runtime/executor.cc:1197] [/device:CPU:0] (DEBUG INFO) Executor start aborting (this does not indicate an error and you can ignore this message): INVALID_ARGUMENT: You must feed a value for placeholder tensor 'Placeholder/_2' with dtype int32 and shape [1034]\n",
      "\t [[{{node Placeholder/_2}}]]\n"
     ]
    },
    {
     "name": "stdout",
     "output_type": "stream",
     "text": [
      "33/33 [==============================] - 51s 2s/step\n",
      "✅ Fold 4 best threshold: 0.30000000000000004 (F1: 0.9535)\n",
      "\n",
      "🔁 Fold 5\n"
     ]
    },
    {
     "name": "stderr",
     "output_type": "stream",
     "text": [
      "/home/zeus/miniconda3/envs/cloudspace/lib/python3.10/site-packages/huggingface_hub/file_download.py:797: FutureWarning: `resume_download` is deprecated and will be removed in version 1.0.0. Downloads always resume when possible. If you want to force a new download, use `force_download=True`.\n",
      "  warnings.warn(\n",
      "Some weights of the PyTorch model were not used when initializing the TF 2.0 model TFDistilBertForSequenceClassification: ['vocab_transform.weight', 'vocab_layer_norm.bias', 'vocab_projector.bias', 'vocab_transform.bias', 'vocab_layer_norm.weight']\n",
      "- This IS expected if you are initializing TFDistilBertForSequenceClassification from a PyTorch model trained on another task or with another architecture (e.g. initializing a TFBertForSequenceClassification model from a BertForPreTraining model).\n",
      "- This IS NOT expected if you are initializing TFDistilBertForSequenceClassification from a PyTorch model that you expect to be exactly identical (e.g. initializing a TFBertForSequenceClassification model from a BertForSequenceClassification model).\n",
      "Some weights or buffers of the TF 2.0 model TFDistilBertForSequenceClassification were not initialized from the PyTorch model and are newly initialized: ['pre_classifier.weight', 'pre_classifier.bias', 'classifier.weight', 'classifier.bias']\n",
      "You should probably TRAIN this model on a down-stream task to be able to use it for predictions and inference.\n",
      "2025-07-08 22:24:38.205864: I tensorflow/core/common_runtime/executor.cc:1197] [/device:CPU:0] (DEBUG INFO) Executor start aborting (this does not indicate an error and you can ignore this message): INVALID_ARGUMENT: You must feed a value for placeholder tensor 'Placeholder/_2' with dtype int32 and shape [4136]\n",
      "\t [[{{node Placeholder/_2}}]]\n",
      "2025-07-08 22:59:03.377089: I tensorflow/core/common_runtime/executor.cc:1197] [/device:CPU:0] (DEBUG INFO) Executor start aborting (this does not indicate an error and you can ignore this message): INVALID_ARGUMENT: You must feed a value for placeholder tensor 'Placeholder/_2' with dtype int32 and shape [1033]\n",
      "\t [[{{node Placeholder/_2}}]]\n"
     ]
    },
    {
     "name": "stdout",
     "output_type": "stream",
     "text": [
      "33/33 [==============================] - 53s 2s/step\n",
      "✅ Fold 5 best threshold: 0.5500000000000002 (F1: 0.9695)\n",
      "\n",
      "📊 Threshold for each fold: [0.1, 0.1, 0.1, 0.30000000000000004, 0.5500000000000002]\n",
      "🔧 Mean Threshold : 0.2300\n",
      "🏋️ Weighted Threshold (F1): 0.2299\n",
      "📋 Threshold for each fold: [0.1, 0.1, 0.1, 0.30000000000000004, 0.5500000000000002]\n",
      "🔧 Mean Threshold : 0.23\n",
      "🏋️ Weighted Threshold (F1): 0.2299\n"
     ]
    }
   ],
   "source": [
    "raw_thresholds, mean_threshold, weighted_threshold = optimize_thresholds_kfold(df3, tokenizer, n_splits=5)\n",
    "\n",
    "print(\"📋 Threshold for each fold:\", raw_thresholds)\n",
    "print(\"🔧 Mean Threshold :\", round(mean_threshold, 4))\n",
    "print(\"🏋️ Weighted Threshold (F1):\", round(weighted_threshold, 4))\n"
   ]
  },
  {
   "cell_type": "code",
   "execution_count": 12,
   "metadata": {},
   "outputs": [
    {
     "name": "stdout",
     "output_type": "stream",
     "text": [
      "✅ Threshold saved in : Models_trained/DistilBERT_ft/DistilBERT_ft_threshold.json\n"
     ]
    }
   ],
   "source": [
    "# Save optimized threshold\n",
    "save_path = \"Models_trained/DistilBERT_ft\"\n",
    "os.makedirs(save_path, exist_ok=True)\n",
    "\n",
    "# Save threshold\n",
    "threshold = round(weighted_threshold, 4)\n",
    "with open(os.path.join(save_path, \"DistilBERT_ft_threshold.json\"), \"w\") as f:\n",
    "    json.dump({\"threshold\": threshold}, f)\n",
    "\n",
    "print(\"✅ Threshold saved in :\", os.path.join(save_path, \"DistilBERT_ft_threshold.json\"))"
   ]
  },
  {
   "cell_type": "markdown",
   "metadata": {},
   "source": [
    "# 5. Evaluate model with new threshold"
   ]
  },
  {
   "cell_type": "code",
   "execution_count": 13,
   "metadata": {},
   "outputs": [
    {
     "name": "stderr",
     "output_type": "stream",
     "text": [
      "Some layers from the model checkpoint at Models_trained/DistilBERT_ft were not used when initializing TFDistilBertForSequenceClassification: ['dropout_39']\n",
      "- This IS expected if you are initializing TFDistilBertForSequenceClassification from the checkpoint of a model trained on another task or with another architecture (e.g. initializing a BertForSequenceClassification model from a BertForPreTraining model).\n",
      "- This IS NOT expected if you are initializing TFDistilBertForSequenceClassification from the checkpoint of a model that you expect to be exactly identical (initializing a BertForSequenceClassification model from a BertForSequenceClassification model).\n",
      "Some layers of TFDistilBertForSequenceClassification were not initialized from the model checkpoint at Models_trained/DistilBERT_ft and are newly initialized: ['dropout_79']\n",
      "You should probably TRAIN this model on a down-stream task to be able to use it for predictions and inference.\n"
     ]
    }
   ],
   "source": [
    "# Path to the directory where you saved the model/tokenizer\n",
    "save_dir = \"Models_trained/DistilBERT_ft\"\n",
    "\n",
    "tokenizer = DistilBertTokenizer.from_pretrained(save_dir)\n",
    "model = TFDistilBertForSequenceClassification.from_pretrained(save_dir)\n",
    "\n",
    "# Path to the threshold file\n",
    "threshold_path = \"Models_trained/DistilBERT_ft/DistilBERT_ft_threshold.json\"\n",
    "# Load the threshold\n",
    "with open(threshold_path, \"r\") as f:\n",
    "    data = json.load(f)\n",
    "    weighted_threshold = data[\"threshold\"]\n"
   ]
  },
  {
   "cell_type": "code",
   "execution_count": 14,
   "metadata": {},
   "outputs": [],
   "source": [
    "def evaluate_model_threshold(model, train_dataset, val_dataset, model_name=\"model\", output_dir=\"Evaluations\", threshold=0.5):\n",
    "    # 1. Make predictions\n",
    "    y_pred_train_logits = model.predict(train_dataset).logits\n",
    "    y_pred_val_logits = model.predict(val_dataset).logits\n",
    "\n",
    "    # Convert logits to probabilities and apply threshold\n",
    "    y_pred_train = (tf.sigmoid(y_pred_train_logits).numpy().flatten() > threshold).astype(int)\n",
    "    y_pred_val = (tf.sigmoid(y_pred_val_logits).numpy().flatten() > threshold).astype(int)\n",
    "\n",
    "    # 2. Extract true labels\n",
    "    y_true_train = np.concatenate([y.numpy() for _, y in train_dataset])\n",
    "    y_true_val = np.concatenate([y.numpy() for _, y in val_dataset])\n",
    "\n",
    "    # 3. Classification reports\n",
    "    report_train = classification_report(y_true_train, y_pred_train, output_dict=True)\n",
    "    report_val = classification_report(y_true_val, y_pred_val, output_dict=True)\n",
    "\n",
    "    print(f\"📊 Classification Report — Train (threshold={threshold})\")\n",
    "    print(classification_report(y_true_train, y_pred_train))\n",
    "    print(f\"\\n📊 Classification Report — Validation (threshold={threshold})\")\n",
    "    print(classification_report(y_true_val, y_pred_val))\n",
    "\n",
    "    # 4. Confusion matrices (heatmaps)\n",
    "    cm_train = confusion_matrix(y_true_train, y_pred_train)\n",
    "    cm_val = confusion_matrix(y_true_val, y_pred_val)\n",
    "\n",
    "    sns.heatmap(cm_train, annot=True, fmt='d', cmap='Blues', xticklabels=['Ham', 'Spam'], yticklabels=['Ham', 'Spam'])\n",
    "    plt.title(f\"Confusion Matrix - Train ({model_name})\")\n",
    "    plt.xlabel(\"Predicted\")\n",
    "    plt.ylabel(\"Actual\")\n",
    "    plt.show()\n",
    "\n",
    "    sns.heatmap(cm_val, annot=True, fmt='d', cmap='Blues', xticklabels=['Ham', 'Spam'], yticklabels=['Ham', 'Spam'])\n",
    "    plt.title(f\"Confusion Matrix - Validation ({model_name})\")\n",
    "    plt.xlabel(\"Predicted\")\n",
    "    plt.ylabel(\"Actual\")\n",
    "    plt.show()\n",
    "\n",
    "    # 5. Summary metrics\n",
    "    summary_train = {\n",
    "        \"accuracy\": accuracy_score(y_true_train, y_pred_train),\n",
    "        \"precision\": report_train[\"weighted avg\"][\"precision\"],\n",
    "        \"recall\": report_train[\"weighted avg\"][\"recall\"],\n",
    "        \"f1-score\": report_train[\"weighted avg\"][\"f1-score\"]\n",
    "    }\n",
    "\n",
    "    summary_val = {\n",
    "        \"accuracy\": accuracy_score(y_true_val, y_pred_val),\n",
    "        \"precision\": report_val[\"weighted avg\"][\"precision\"],\n",
    "        \"recall\": report_val[\"weighted avg\"][\"recall\"],\n",
    "        \"f1-score\": report_val[\"weighted avg\"][\"f1-score\"]\n",
    "    }\n",
    "\n",
    "    # 6. Save metrics in JSON\n",
    "    os.makedirs(output_dir, exist_ok=True)\n",
    "    metrics = {\n",
    "        \"model_name\": model_name,\n",
    "        \"threshold\": threshold,\n",
    "        \"train_metrics\": report_train,\n",
    "        \"val_metrics\": report_val,\n",
    "        \"train_summary\": summary_train,\n",
    "        \"val_summary\": summary_val\n",
    "    }\n",
    "    json_path = os.path.join(output_dir, f\"{model_name}_metrics.json\")\n",
    "    with open(json_path, \"w\") as f:\n",
    "        json.dump(metrics, f, indent=4)\n",
    "\n",
    "    print(f\"✅ Metrics saved to {json_path}\")\n"
   ]
  },
  {
   "cell_type": "code",
   "execution_count": 15,
   "metadata": {},
   "outputs": [
    {
     "name": "stderr",
     "output_type": "stream",
     "text": [
      "2025-07-09 00:31:55.748154: I tensorflow/core/common_runtime/executor.cc:1197] [/device:CPU:0] (DEBUG INFO) Executor start aborting (this does not indicate an error and you can ignore this message): INVALID_ARGUMENT: You must feed a value for placeholder tensor 'Placeholder/_2' with dtype int32 and shape [3618]\n",
      "\t [[{{node Placeholder/_2}}]]\n",
      "2025-07-09 00:31:55.749454: I tensorflow/core/common_runtime/executor.cc:1197] [/device:CPU:0] (DEBUG INFO) Executor start aborting (this does not indicate an error and you can ignore this message): INVALID_ARGUMENT: You must feed a value for placeholder tensor 'Placeholder/_1' with dtype int32 and shape [3618,130]\n",
      "\t [[{{node Placeholder/_1}}]]\n"
     ]
    },
    {
     "name": "stdout",
     "output_type": "stream",
     "text": [
      "114/114 [==============================] - 154s 1s/step\n"
     ]
    },
    {
     "name": "stderr",
     "output_type": "stream",
     "text": [
      "2025-07-09 00:34:29.841807: I tensorflow/core/common_runtime/executor.cc:1197] [/device:CPU:0] (DEBUG INFO) Executor start aborting (this does not indicate an error and you can ignore this message): INVALID_ARGUMENT: You must feed a value for placeholder tensor 'Placeholder/_2' with dtype int32 and shape [1551]\n",
      "\t [[{{node Placeholder/_2}}]]\n"
     ]
    },
    {
     "name": "stdout",
     "output_type": "stream",
     "text": [
      "49/49 [==============================] - 64s 1s/step\n",
      "📊 Classification Report — Train (threshold=0.2299)\n",
      "              precision    recall  f1-score   support\n",
      "\n",
      "           0       0.87      0.87      0.87      3161\n",
      "           1       0.10      0.11      0.10       457\n",
      "\n",
      "    accuracy                           0.77      3618\n",
      "   macro avg       0.49      0.49      0.49      3618\n",
      "weighted avg       0.77      0.77      0.77      3618\n",
      "\n",
      "\n",
      "📊 Classification Report — Validation (threshold=0.2299)\n",
      "              precision    recall  f1-score   support\n",
      "\n",
      "           0       0.99      0.98      0.99      1355\n",
      "           1       0.89      0.96      0.93       196\n",
      "\n",
      "    accuracy                           0.98      1551\n",
      "   macro avg       0.94      0.97      0.96      1551\n",
      "weighted avg       0.98      0.98      0.98      1551\n",
      "\n"
     ]
    },
    {
     "data": {
      "image/png": "[encoded data removed]",
      "text/plain": [
       "<Figure size 640x480 with 2 Axes>"
      ]
     },
     "metadata": {},
     "output_type": "display_data"
    },
    {
     "data": {
      "image/png": "[encoded data removed]",
      "text/plain": [
       "<Figure size 640x480 with 2 Axes>"
      ]
     },
     "metadata": {},
     "output_type": "display_data"
    },
    {
     "name": "stdout",
     "output_type": "stream",
     "text": [
      "✅ Metrics saved to Evaluations/DistilBERT_ft_threshold_metrics.json\n"
     ]
    }
   ],
   "source": [
    "evaluate_model_threshold(\n",
    "    model=model,\n",
    "    train_dataset=train_dataset,\n",
    "    val_dataset=val_dataset,\n",
    "    model_name=\"DistilBERT_ft_threshold\",\n",
    "    output_dir=\"Evaluations\",\n",
    "    threshold=weighted_threshold\n",
    ")\n"
   ]
  },
  {
   "cell_type": "markdown",
   "metadata": {},
   "source": [
    "Our model is still not good..."
   ]
  },
  {
   "cell_type": "code",
   "execution_count": null,
   "metadata": {},
   "outputs": [],
   "source": []
  }
 ],
 "metadata": {
  "language_info": {
   "name": "python"
  }
 },
 "nbformat": 4,
 "nbformat_minor": 2
}
