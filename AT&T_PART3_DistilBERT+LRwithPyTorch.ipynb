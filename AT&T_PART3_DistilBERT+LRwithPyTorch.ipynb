{
 "cells": [
  {
   "cell_type": "markdown",
   "metadata": {},
   "source": [
    "# AT&T Spam Detector - BLOC 5\n",
    "## PART 4 : DistilBERT + logistic Regression with PyTorch\n",
    "Developed by Myriam Goyet     \n",
    "Contact : https://www.linkedin.com/in/myriamgoyet/"
   ]
  },
  {
   "cell_type": "code",
   "execution_count": 20,
   "metadata": {},
   "outputs": [],
   "source": [
    "import pandas as pd\n",
    "import numpy as np\n",
    "import matplotlib.pyplot as plt\n",
    "from plotly import graph_objects as go\n",
    "import seaborn as sns\n",
    "import time\n",
    "import random\n",
    "import string\n",
    "import torch\n",
    "import joblib\n",
    "import os, shutil, joblib, json\n",
    "\n",
    "\n",
    "from sklearn.linear_model import LogisticRegression\n",
    "from sklearn.model_selection import train_test_split\n",
    "from sklearn.metrics import f1_score, classification_report, accuracy_score, precision_score, recall_score,confusion_matrix\n",
    "from sklearn.utils.class_weight import compute_class_weight \n",
    "\n",
    "from transformers import AutoTokenizer, AutoModel\n",
    "from sklearn.preprocessing import StandardScaler\n",
    "from sklearn.pipeline import make_pipeline\n",
    "\n",
    "import re"
   ]
  },
  {
   "cell_type": "markdown",
   "metadata": {},
   "source": [
    "# 1. Load dataset and model"
   ]
  },
  {
   "cell_type": "code",
   "execution_count": 21,
   "metadata": {},
   "outputs": [],
   "source": [
    "df4 = pd.read_csv('AT&T_data_preprocessed.csv')\n",
    "# Replace missing values with an empty string and convert everything to strings\n",
    "df4['clean_data'] = df4['clean_data'].fillna('').astype(str)"
   ]
  },
  {
   "cell_type": "code",
   "execution_count": null,
   "metadata": {},
   "outputs": [
    {
     "data": {
      "text/html": [
       "<div>\n",
       "<style scoped>\n",
       "    .dataframe tbody tr th:only-of-type {\n",
       "        vertical-align: middle;\n",
       "    }\n",
       "\n",
       "    .dataframe tbody tr th {\n",
       "        vertical-align: top;\n",
       "    }\n",
       "\n",
       "    .dataframe thead th {\n",
       "        text-align: right;\n",
       "    }\n",
       "</style>\n",
       "<table border=\"1\" class=\"dataframe\">\n",
       "  <thead>\n",
       "    <tr style=\"text-align: right;\">\n",
       "      <th></th>\n",
       "      <th>target</th>\n",
       "      <th>messages</th>\n",
       "      <th>clean_data</th>\n",
       "      <th>clean_lemma</th>\n",
       "    </tr>\n",
       "  </thead>\n",
       "  <tbody>\n",
       "    <tr>\n",
       "      <th>0</th>\n",
       "      <td>0</td>\n",
       "      <td>Go until jurong point, crazy.. Available only ...</td>\n",
       "      <td>go until jurong point crazy available only in ...</td>\n",
       "      <td>jurong point crazy available bugis n great wor...</td>\n",
       "    </tr>\n",
       "    <tr>\n",
       "      <th>1</th>\n",
       "      <td>0</td>\n",
       "      <td>Ok lar... Joking wif u oni...</td>\n",
       "      <td>ok lar joking wif u oni</td>\n",
       "      <td>ok lar joking wif u oni</td>\n",
       "    </tr>\n",
       "    <tr>\n",
       "      <th>2</th>\n",
       "      <td>1</td>\n",
       "      <td>Free entry in 2 a wkly comp to win FA Cup fina...</td>\n",
       "      <td>free entry in 2 a wkly comp to win fa cup fina...</td>\n",
       "      <td>free entry 2 wkly comp win fa cup final tkts 2...</td>\n",
       "    </tr>\n",
       "    <tr>\n",
       "      <th>3</th>\n",
       "      <td>0</td>\n",
       "      <td>U dun say so early hor... U c already then say...</td>\n",
       "      <td>u dun say so early hor u c already then say</td>\n",
       "      <td>u dun early hor u c</td>\n",
       "    </tr>\n",
       "    <tr>\n",
       "      <th>4</th>\n",
       "      <td>0</td>\n",
       "      <td>Nah I don't think he goes to usf, he lives aro...</td>\n",
       "      <td>nah i don't think he goes to usf he lives arou...</td>\n",
       "      <td>nah think usf live</td>\n",
       "    </tr>\n",
       "  </tbody>\n",
       "</table>\n",
       "</div>"
      ],
      "text/plain": [
       "   target                                           messages  \\\n",
       "0       0  Go until jurong point, crazy.. Available only ...   \n",
       "1       0                      Ok lar... Joking wif u oni...   \n",
       "2       1  Free entry in 2 a wkly comp to win FA Cup fina...   \n",
       "3       0  U dun say so early hor... U c already then say...   \n",
       "4       0  Nah I don't think he goes to usf, he lives aro...   \n",
       "\n",
       "                                          clean_data  \\\n",
       "0  go until jurong point crazy available only in ...   \n",
       "1                            ok lar joking wif u oni   \n",
       "2  free entry in 2 a wkly comp to win fa cup fina...   \n",
       "3        u dun say so early hor u c already then say   \n",
       "4  nah i don't think he goes to usf he lives arou...   \n",
       "\n",
       "                                         clean_lemma  \n",
       "0  jurong point crazy available bugis n great wor...  \n",
       "1                            ok lar joking wif u oni  \n",
       "2  free entry 2 wkly comp win fa cup final tkts 2...  \n",
       "3                                u dun early hor u c  \n",
       "4                                 nah think usf live  "
      ]
     },
     "execution_count": 22,
     "metadata": {},
     "output_type": "execute_result"
    }
   ],
   "source": [
    "df4.head() "
   ]
  },
  {
   "cell_type": "code",
   "execution_count": 23,
   "metadata": {},
   "outputs": [],
   "source": [
    "# Loading pretrained model/tokenizer compatible with PyTorch\n",
    "model_name = \"distilbert-base-uncased\"\n",
    "tokenizer = AutoTokenizer.from_pretrained(model_name)\n",
    "model = AutoModel.from_pretrained(model_name)"
   ]
  },
  {
   "cell_type": "markdown",
   "metadata": {},
   "source": [
    "# 2. Preprocessing and Embedding with DistilBERT"
   ]
  },
  {
   "cell_type": "code",
   "execution_count": 24,
   "metadata": {},
   "outputs": [],
   "source": [
    "# tokenisation of the messages\n",
    "tokenized = df4['clean_data'].apply(lambda x: tokenizer.encode(x, add_special_tokens=True))\n",
    "\n",
    "# get the length of the longest tokenized sentence\n",
    "max_len = tokenized.apply(len).max() \n",
    "# padd the rest of the sentence with zeros if the sentence is smaller than the longest sentence\n",
    "padded = np.array([i + [0]*(max_len-len(i)) for i in tokenized.values]) \n",
    "# Tell our model to ignore every zeros\n",
    "attention_mask = np.where(padded != 0, 1, 0)\n",
    "\n"
   ]
  },
  {
   "cell_type": "code",
   "execution_count": 25,
   "metadata": {},
   "outputs": [
    {
     "data": {
      "text/plain": [
       "204"
      ]
     },
     "execution_count": 25,
     "metadata": {},
     "output_type": "execute_result"
    }
   ],
   "source": [
    "max_len"
   ]
  },
  {
   "cell_type": "code",
   "execution_count": 26,
   "metadata": {},
   "outputs": [],
   "source": [
    "# Convert to PyTorch tensors with appropriate data types\n",
    "input_ids = torch.tensor(padded, dtype=torch.long)  # Use torch.long for input_ids\n",
    "attention_mask = torch.tensor(attention_mask, dtype=torch.bool)  # Use torch.bool for attention_mask"
   ]
  },
  {
   "cell_type": "code",
   "execution_count": 27,
   "metadata": {},
   "outputs": [
    {
     "name": "stdout",
     "output_type": "stream",
     "text": [
      "Input IDs shape: torch.Size([5169, 204])\n",
      "Attention Mask shape: torch.Size([5169, 204])\n",
      "Input IDs type: torch.int64\n",
      "Attention Mask type: torch.bool\n"
     ]
    }
   ],
   "source": [
    "# Check shapes and types\n",
    "print(\"Input IDs shape:\", input_ids.shape)\n",
    "print(\"Attention Mask shape:\", attention_mask.shape)\n",
    "print(\"Input IDs type:\", input_ids.dtype)\n",
    "print(\"Attention Mask type:\", attention_mask.dtype)"
   ]
  },
  {
   "cell_type": "code",
   "execution_count": 28,
   "metadata": {},
   "outputs": [],
   "source": [
    "def extract_features_in_batches(model, input_ids, attention_mask, df4, batch_size=64):\n",
    "    model.eval()\n",
    "    all_X = []\n",
    "    all_y = []\n",
    "\n",
    "    for start_idx in range(0, len(input_ids), batch_size):\n",
    "        end_idx = start_idx + batch_size\n",
    "\n",
    "        # Slice the batch\n",
    "        batch_input_ids = input_ids[start_idx:end_idx]\n",
    "        batch_attention_mask = attention_mask[start_idx:end_idx]\n",
    "        batch_df = df4.iloc[start_idx:end_idx]\n",
    "\n",
    "        with torch.no_grad():\n",
    "            outputs = model(input_ids=batch_input_ids, attention_mask=batch_attention_mask)\n",
    "            hidden_states = outputs.last_hidden_state  # (batch_size, seq_len, hidden_size)\n",
    "            cls_embeddings = hidden_states[:, 0, :].cpu().numpy()  # (batch_size, hidden_size)\n",
    "\n",
    "        # Only use DistilBERT CLS token embeddings\n",
    "        batch_X = cls_embeddings\n",
    "        batch_y = batch_df[\"target\"].to_numpy()\n",
    "\n",
    "        all_X.append(batch_X)\n",
    "        all_y.append(batch_y)\n",
    "\n",
    "    X = np.vstack(all_X)\n",
    "    y = np.concatenate(all_y)\n",
    "\n",
    "    return X, y\n"
   ]
  },
  {
   "cell_type": "code",
   "execution_count": 29,
   "metadata": {},
   "outputs": [
    {
     "name": "stdout",
     "output_type": "stream",
     "text": [
      "✅ X shape: (5169, 768)\n",
      "✅ y shape: (5169,)\n"
     ]
    }
   ],
   "source": [
    "X, y = extract_features_in_batches(model, input_ids, attention_mask, df4, batch_size=64)\n",
    "\n",
    "print(\"✅ X shape:\", X.shape)\n",
    "print(\"✅ y shape:\", y.shape)\n"
   ]
  },
  {
   "cell_type": "code",
   "execution_count": 30,
   "metadata": {},
   "outputs": [],
   "source": [
    "import os\n",
    "import json\n",
    "import numpy as np\n",
    "\n",
    "def save_distilbert_features_and_model(\n",
    "    model,\n",
    "    tokenizer,\n",
    "    X,\n",
    "    y,\n",
    "    output_dir=\"Models_trained/DistilBERT+lr/DistilBERT_features\"\n",
    "):\n",
    "    # Clean save directory\n",
    "    if os.path.exists(output_dir):\n",
    "        import shutil\n",
    "        shutil.rmtree(output_dir)\n",
    "    os.makedirs(output_dir)\n",
    "\n",
    "    # 1. Save features\n",
    "    np.save(os.path.join(output_dir, \"features_X.npy\"), X)\n",
    "    np.save(os.path.join(output_dir, \"labels_y.npy\"), y)\n",
    "\n",
    "    # 2. Save DistilBERT model (PyTorch format)\n",
    "    model.save_pretrained(os.path.join(output_dir, \"distilbert_model\"))\n",
    "\n",
    "    # 3. Save tokenizer\n",
    "    tokenizer.save_pretrained(os.path.join(output_dir, \"tokenizer\"))\n",
    "\n",
    "    # 4. Save metadata \n",
    "    metadata = {\n",
    "        \"X_shape\": X.shape,\n",
    "        \"y_shape\": y.shape,\n",
    "        \"embedding_dim\": X.shape[1],\n",
    "        \"model_type\": \"DistilBERT\"\n",
    "    }\n",
    "    with open(os.path.join(output_dir, \"meta.json\"), \"w\") as f:\n",
    "        json.dump(metadata, f, indent=4)\n",
    "\n",
    "    print(f\"✅ DistilBERT features and model saved in: {output_dir}\")\n"
   ]
  },
  {
   "cell_type": "code",
   "execution_count": 31,
   "metadata": {},
   "outputs": [
    {
     "name": "stdout",
     "output_type": "stream",
     "text": [
      "✅ DistilBERT features and model saved in: Models_trained/DistilBERT+lr/DistilBERT_features\n"
     ]
    }
   ],
   "source": [
    "save_distilbert_features_and_model(\n",
    "    model=model,\n",
    "    tokenizer=tokenizer,\n",
    "    X=X,\n",
    "    y=y,\n",
    "    output_dir=\"Models_trained/DistilBERT+lr/DistilBERT_features\")"
   ]
  },
  {
   "cell_type": "markdown",
   "metadata": {},
   "source": [
    "# 3. Use the emdedded feature to train a Logistic regression model"
   ]
  },
  {
   "cell_type": "code",
   "execution_count": 32,
   "metadata": {},
   "outputs": [],
   "source": [
    "# train test split\n",
    "X_train, X_test, y_train, y_test = train_test_split(X, y, stratify=y, random_state=42)"
   ]
  },
  {
   "cell_type": "code",
   "execution_count": 33,
   "metadata": {},
   "outputs": [
    {
     "name": "stdout",
     "output_type": "stream",
     "text": [
      "classification_report train set\n",
      "              precision    recall  f1-score   support\n",
      "\n",
      "           0       1.00      1.00      1.00      3386\n",
      "           1       1.00      1.00      1.00       490\n",
      "\n",
      "    accuracy                           1.00      3876\n",
      "   macro avg       1.00      1.00      1.00      3876\n",
      "weighted avg       1.00      1.00      1.00      3876\n",
      "\n",
      "classification_report test set\n",
      "              precision    recall  f1-score   support\n",
      "\n",
      "           0       0.99      0.99      0.99      1130\n",
      "           1       0.96      0.94      0.95       163\n",
      "\n",
      "    accuracy                           0.99      1293\n",
      "   macro avg       0.98      0.97      0.97      1293\n",
      "weighted avg       0.99      0.99      0.99      1293\n",
      "\n"
     ]
    },
    {
     "data": {
      "image/png": "[encoded data removed]",
      "text/plain": [
       "<Figure size 640x480 with 2 Axes>"
      ]
     },
     "metadata": {},
     "output_type": "display_data"
    },
    {
     "name": "stdout",
     "output_type": "stream",
     "text": [
      "\n"
     ]
    },
    {
     "data": {
      "image/png": "[encoded data removed]",
      "text/plain": [
       "<Figure size 640x480 with 2 Axes>"
      ]
     },
     "metadata": {},
     "output_type": "display_data"
    }
   ],
   "source": [
    "model_lr = make_pipeline(\n",
    "    StandardScaler(),\n",
    "    LogisticRegression(max_iter=1000)\n",
    ")\n",
    "model_lr.fit(X_train, y_train)\n",
    "y_pred_train = model_lr.predict(X_train)\n",
    "y_pred_test = model_lr.predict(X_test)\n",
    "model_name =\"LogisticRegression\"\n",
    "\n",
    "# Classification report\n",
    "print(\"classification_report train set\")\n",
    "print(classification_report(y_train, y_pred_train))\n",
    "print(\"classification_report test set\")\n",
    "print(classification_report(y_test, y_pred_test))\n",
    "\n",
    "# Heatmaps confusion matrix\n",
    "cm_train = confusion_matrix(y_train, y_pred_train)\n",
    "sns.heatmap(cm_train, annot=True, fmt='d', cmap='Blues', xticklabels=['Ham', 'Spam'], yticklabels=['Ham', 'Spam'])\n",
    "plt.title(f\"Confusion Matrix - Training ({model_name})\")\n",
    "plt.xlabel(\"Predicted\")\n",
    "plt.ylabel(\"Actual\")\n",
    "plt.show()\n",
    "print()\n",
    "cm_test = confusion_matrix(y_test, y_pred_test)\n",
    "sns.heatmap(cm_test, annot=True, fmt='d', cmap='Blues', xticklabels=['Ham', 'Spam'], yticklabels=['Ham', 'Spam'])\n",
    "plt.title(f\"Confusion Matrix - Test ({model_name})\")\n",
    "plt.xlabel(\"Predicted\")\n",
    "plt.ylabel(\"Actual\")\n",
    "plt.show()\n",
    "\n",
    "\n"
   ]
  },
  {
   "cell_type": "markdown",
   "metadata": {},
   "source": [
    "Youhou!! Our model's metrics are excellent!!"
   ]
  },
  {
   "cell_type": "markdown",
   "metadata": {},
   "source": [
    "# Saving model and metrics"
   ]
  },
  {
   "cell_type": "code",
   "execution_count": 34,
   "metadata": {},
   "outputs": [],
   "source": [
    "def save_full_pipeline_and_classifier(\n",
    "    distilbert_model,\n",
    "    tokenizer,\n",
    "    classifier_pipeline,\n",
    "    X,\n",
    "    y,\n",
    "    threshold=None,\n",
    "    output_dir=\"Models_trained/DistilBERT+lr/final_pipeline\"\n",
    "):\n",
    "    # 1. Reset save directory\n",
    "    if os.path.exists(output_dir):\n",
    "        shutil.rmtree(output_dir)\n",
    "    os.makedirs(output_dir)\n",
    "\n",
    "    # 2. Save DistilBERT model (PyTorch)\n",
    "    distilbert_model.save_pretrained(os.path.join(output_dir, \"distilbert_model\"))\n",
    "\n",
    "    # 3. Save tokenizer\n",
    "    tokenizer.save_pretrained(os.path.join(output_dir, \"tokenizer\"))\n",
    "\n",
    "    # 4. Save classifier pipeline (StandardScaler + LogisticRegression)\n",
    "    joblib.dump(classifier_pipeline, os.path.join(output_dir, \"classifier_pipeline.joblib\"))\n",
    "\n",
    "    # 5. Save features\n",
    "    np.save(os.path.join(output_dir, \"features_X.npy\"), X)\n",
    "    np.save(os.path.join(output_dir, \"labels_y.npy\"), y)\n",
    "\n",
    "    # 6. Save metadata\n",
    "    metadata = {\n",
    "        \"model_type\": \"DistilBERT + LogisticRegression\",\n",
    "        \"embedding\": \"CLS token\",\n",
    "        \"features\": [\"CLS embedding\"],\n",
    "        \"tokenizer\": tokenizer.name_or_path,\n",
    "        \"X_shape\": X.shape,\n",
    "        \"y_shape\": y.shape,\n",
    "        \"threshold_used\": round(threshold, 4) if threshold else \"default (0.5)\",\n",
    "        \"notes\": \"Built using HuggingFace DistilBERT CLS embeddings and scikit-learn pipeline. No handcrafted features included.\"\n",
    "    }\n",
    "    with open(os.path.join(output_dir, \"metadata.json\"), \"w\") as f:\n",
    "        json.dump(metadata, f, indent=4)\n",
    "\n",
    "    print(f\"✅ Full DistilBERT pipeline saved to: {output_dir}\")\n"
   ]
  },
  {
   "cell_type": "code",
   "execution_count": null,
   "metadata": {},
   "outputs": [],
   "source": [
    "save_full_pipeline_and_classifier(\n",
    "    distilbert_model = model,\n",
    "    tokenizer = tokenizer,\n",
    "    classifier_pipeline = model_lr,\n",
    "    X=X,\n",
    "    y=y,\n",
    "    threshold=None,\n",
    "    output_dir=\"Models_trained/DistilBERT+lr/final_pipeline\"\n",
    ")"
   ]
  },
  {
   "cell_type": "code",
   "execution_count": null,
   "metadata": {},
   "outputs": [],
   "source": [
    "def save_metrics_and_reports(\n",
    "    report_train,\n",
    "    report_test,\n",
    "    cm_train,\n",
    "    cm_test,\n",
    "    threshold=None,\n",
    "    eval_dir=\"Evaluations\"\n",
    "):\n",
    "    os.makedirs(eval_dir, exist_ok=True)\n",
    "\n",
    "    # Save classification reports\n",
    "    with open(os.path.join(eval_dir, \"classification_report_train.json\"), \"w\") as f:\n",
    "        json.dump(report_train, f, indent=4)\n",
    "    with open(os.path.join(eval_dir, \"classification_report_test.json\"), \"w\") as f:\n",
    "        json.dump(report_test, f, indent=4)\n",
    "\n",
    "    # Save summary metrics\n",
    "    summary = {\n",
    "        \"train_f1\": report_train[\"weighted avg\"][\"f1-score\"],\n",
    "        \"train_precision\": report_train[\"weighted avg\"][\"precision\"],\n",
    "        \"train_recall\": report_train[\"weighted avg\"][\"recall\"],\n",
    "        \"train_accuracy\": report_train[\"accuracy\"],\n",
    "        \"test_f1\": report_test[\"weighted avg\"][\"f1-score\"],\n",
    "        \"test_precision\": report_test[\"weighted avg\"][\"precision\"],\n",
    "        \"test_recall\": report_test[\"weighted avg\"][\"recall\"],\n",
    "        \"test_accuracy\": report_test[\"accuracy\"]\n",
    "    }\n",
    "    with open(os.path.join(eval_dir, \"metrics_summary.json\"), \"w\") as f:\n",
    "        json.dump(summary, f, indent=4)\n",
    "\n",
    "    # Save threshold\n",
    "    if threshold is not None:\n",
    "        with open(os.path.join(eval_dir, \"threshold.json\"), \"w\") as f:\n",
    "            json.dump({\"threshold\": round(threshold, 4)}, f)\n",
    "\n",
    "    # Save confusion matrices\n",
    "    plt.figure(figsize=(8, 6))\n",
    "    sns.heatmap(cm_train, annot=True, fmt='d', cmap='Blues',\n",
    "                xticklabels=['Ham', 'Spam'], yticklabels=['Ham', 'Spam'])\n",
    "    plt.title(\"Confusion Matrix - Training\")\n",
    "    plt.xlabel(\"Predicted\")\n",
    "    plt.ylabel(\"Actual\")\n",
    "    plt.savefig(os.path.join(eval_dir, \"confusion_matrix_train.png\"))\n",
    "    plt.close()\n",
    "\n",
    "    plt.figure(figsize=(8, 6))\n",
    "    sns.heatmap(cm_test, annot=True, fmt='d', cmap='Blues',\n",
    "                xticklabels=['Ham', 'Spam'], yticklabels=['Ham', 'Spam'])\n",
    "    plt.title(\"Confusion Matrix - Validation\")\n",
    "    plt.xlabel(\"Predicted\")\n",
    "    plt.ylabel(\"Actual\")\n",
    "    plt.savefig(os.path.join(eval_dir, \"confusion_matrix_test.png\"))\n",
    "    plt.close()\n",
    "\n",
    "    print(f\"✅ Evaluation reports saved to: {eval_dir}\")\n"
   ]
  },
  {
   "cell_type": "code",
   "execution_count": 35,
   "metadata": {},
   "outputs": [
    {
     "ename": "NameError",
     "evalue": "name 'save_metrics_and_reports' is not defined",
     "output_type": "error",
     "traceback": [
      "\u001b[1;31m---------------------------------------------------------------------------\u001b[0m",
      "\u001b[1;31mNameError\u001b[0m                                 Traceback (most recent call last)",
      "Cell \u001b[1;32mIn[35], line 4\u001b[0m\n\u001b[0;32m      1\u001b[0m report_train \u001b[38;5;241m=\u001b[39m classification_report(y_train, y_pred_train, output_dict\u001b[38;5;241m=\u001b[39m\u001b[38;5;28;01mTrue\u001b[39;00m)\n\u001b[0;32m      2\u001b[0m report_test \u001b[38;5;241m=\u001b[39m classification_report(y_test, y_pred_test, output_dict\u001b[38;5;241m=\u001b[39m\u001b[38;5;28;01mTrue\u001b[39;00m)\n\u001b[1;32m----> 4\u001b[0m \u001b[43msave_metrics_and_reports\u001b[49m(\n\u001b[0;32m      5\u001b[0m     report_train\u001b[38;5;241m=\u001b[39mreport_train,\n\u001b[0;32m      6\u001b[0m     report_test\u001b[38;5;241m=\u001b[39mreport_test,\n\u001b[0;32m      7\u001b[0m     cm_train\u001b[38;5;241m=\u001b[39mcm_train,\n\u001b[0;32m      8\u001b[0m     cm_test\u001b[38;5;241m=\u001b[39mcm_test,\n\u001b[0;32m      9\u001b[0m     threshold\u001b[38;5;241m=\u001b[39m\u001b[38;5;28;01mNone\u001b[39;00m,\n\u001b[0;32m     10\u001b[0m     eval_dir\u001b[38;5;241m=\u001b[39m\u001b[38;5;124m\"\u001b[39m\u001b[38;5;124mEvaluations/DistilBERT_lr\u001b[39m\u001b[38;5;124m\"\u001b[39m\n\u001b[0;32m     11\u001b[0m )\n",
      "\u001b[1;31mNameError\u001b[0m: name 'save_metrics_and_reports' is not defined"
     ]
    }
   ],
   "source": [
    "report_train = classification_report(y_train, y_pred_train, output_dict=True)\n",
    "report_test = classification_report(y_test, y_pred_test, output_dict=True)\n",
    "\n",
    "save_metrics_and_reports(\n",
    "    report_train=report_train,\n",
    "    report_test=report_test,\n",
    "    cm_train=cm_train,\n",
    "    cm_test=cm_test,\n",
    "    threshold=None,\n",
    "    eval_dir=\"Evaluations/DistilBERT_lr\"\n",
    ")\n"
   ]
  },
  {
   "cell_type": "markdown",
   "metadata": {},
   "source": []
  },
  {
   "cell_type": "markdown",
   "metadata": {},
   "source": []
  }
 ],
 "metadata": {
  "kernelspec": {
   "display_name": "myenv",
   "language": "python",
   "name": "python3"
  },
  "language_info": {
   "codemirror_mode": {
    "name": "ipython",
    "version": 3
   },
   "file_extension": ".py",
   "mimetype": "text/x-python",
   "name": "python",
   "nbconvert_exporter": "python",
   "pygments_lexer": "ipython3",
   "version": "3.10.13"
  }
 },
 "nbformat": 4,
 "nbformat_minor": 2
}
