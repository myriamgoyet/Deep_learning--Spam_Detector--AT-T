{
 "cells": [
  {
   "cell_type": "markdown",
   "metadata": {},
   "source": [
    "# AT&T Spam Detector - BLOC 5\n",
    "## PART 2 : Baseline Model\n",
    "Developed by Myriam Goyet     \n",
    "Contact : https://www.linkedin.com/in/myriamgoyet/"
   ]
  },
  {
   "cell_type": "code",
   "execution_count": 61,
   "metadata": {},
   "outputs": [],
   "source": [
    "import pandas as pd\n",
    "import numpy as np\n",
    "import tensorflow as tf\n",
    "import random\n",
    "import time\n",
    "\n",
    "from sklearn.model_selection import train_test_split\n",
    "from sklearn.metrics import f1_score, classification_report, accuracy_score, precision_score, recall_score,confusion_matrix\n",
    "from tensorflow.keras.optimizers import Adam\n",
    "\n",
    "import os\n",
    "import shutil\n",
    "import joblib\n",
    "import json\n",
    "\n",
    "import matplotlib.pyplot as plt\n",
    "import seaborn as sns\n"
   ]
  },
  {
   "cell_type": "markdown",
   "metadata": {},
   "source": [
    "# 1. Load the dataset"
   ]
  },
  {
   "cell_type": "code",
   "execution_count": 40,
   "metadata": {},
   "outputs": [
    {
     "data": {
      "text/html": [
       "<div>\n",
       "<style scoped>\n",
       "    .dataframe tbody tr th:only-of-type {\n",
       "        vertical-align: middle;\n",
       "    }\n",
       "\n",
       "    .dataframe tbody tr th {\n",
       "        vertical-align: top;\n",
       "    }\n",
       "\n",
       "    .dataframe thead th {\n",
       "        text-align: right;\n",
       "    }\n",
       "</style>\n",
       "<table border=\"1\" class=\"dataframe\">\n",
       "  <thead>\n",
       "    <tr style=\"text-align: right;\">\n",
       "      <th></th>\n",
       "      <th>target</th>\n",
       "      <th>messages</th>\n",
       "      <th>clean_data</th>\n",
       "      <th>clean_lemma</th>\n",
       "    </tr>\n",
       "  </thead>\n",
       "  <tbody>\n",
       "    <tr>\n",
       "      <th>0</th>\n",
       "      <td>0</td>\n",
       "      <td>Go until jurong point, crazy.. Available only ...</td>\n",
       "      <td>go until jurong point crazy available only in ...</td>\n",
       "      <td>jurong point crazy available bugis n great wor...</td>\n",
       "    </tr>\n",
       "    <tr>\n",
       "      <th>1</th>\n",
       "      <td>0</td>\n",
       "      <td>Ok lar... Joking wif u oni...</td>\n",
       "      <td>ok lar joking wif u oni</td>\n",
       "      <td>ok lar joking wif u oni</td>\n",
       "    </tr>\n",
       "    <tr>\n",
       "      <th>2</th>\n",
       "      <td>1</td>\n",
       "      <td>Free entry in 2 a wkly comp to win FA Cup fina...</td>\n",
       "      <td>free entry in 2 a wkly comp to win fa cup fina...</td>\n",
       "      <td>free entry 2 wkly comp win fa cup final tkts 2...</td>\n",
       "    </tr>\n",
       "    <tr>\n",
       "      <th>3</th>\n",
       "      <td>0</td>\n",
       "      <td>U dun say so early hor... U c already then say...</td>\n",
       "      <td>u dun say so early hor u c already then say</td>\n",
       "      <td>u dun early hor u c</td>\n",
       "    </tr>\n",
       "    <tr>\n",
       "      <th>4</th>\n",
       "      <td>0</td>\n",
       "      <td>Nah I don't think he goes to usf, he lives aro...</td>\n",
       "      <td>nah i don't think he goes to usf he lives arou...</td>\n",
       "      <td>nah think usf live</td>\n",
       "    </tr>\n",
       "  </tbody>\n",
       "</table>\n",
       "</div>"
      ],
      "text/plain": [
       "   target                                           messages  \\\n",
       "0       0  Go until jurong point, crazy.. Available only ...   \n",
       "1       0                      Ok lar... Joking wif u oni...   \n",
       "2       1  Free entry in 2 a wkly comp to win FA Cup fina...   \n",
       "3       0  U dun say so early hor... U c already then say...   \n",
       "4       0  Nah I don't think he goes to usf, he lives aro...   \n",
       "\n",
       "                                          clean_data  \\\n",
       "0  go until jurong point crazy available only in ...   \n",
       "1                            ok lar joking wif u oni   \n",
       "2  free entry in 2 a wkly comp to win fa cup fina...   \n",
       "3        u dun say so early hor u c already then say   \n",
       "4  nah i don't think he goes to usf he lives arou...   \n",
       "\n",
       "                                         clean_lemma  \n",
       "0  jurong point crazy available bugis n great wor...  \n",
       "1                            ok lar joking wif u oni  \n",
       "2  free entry 2 wkly comp win fa cup final tkts 2...  \n",
       "3                                u dun early hor u c  \n",
       "4                                 nah think usf live  "
      ]
     },
     "execution_count": 40,
     "metadata": {},
     "output_type": "execute_result"
    }
   ],
   "source": [
    "df2 = pd.read_csv('AT&T_data_preprocessed.csv')\n",
    "df2.head()"
   ]
  },
  {
   "cell_type": "markdown",
   "metadata": {},
   "source": [
    "# 2. Preprocessing for baseline"
   ]
  },
  {
   "cell_type": "code",
   "execution_count": 41,
   "metadata": {},
   "outputs": [],
   "source": [
    "# Replace missing values with an empty string and convert everything to strings\n",
    "df2['clean_lemma'] = df2['clean_lemma'].fillna('').astype(str)"
   ]
  },
  {
   "cell_type": "code",
   "execution_count": 42,
   "metadata": {},
   "outputs": [
    {
     "data": {
      "text/html": [
       "<div>\n",
       "<style scoped>\n",
       "    .dataframe tbody tr th:only-of-type {\n",
       "        vertical-align: middle;\n",
       "    }\n",
       "\n",
       "    .dataframe tbody tr th {\n",
       "        vertical-align: top;\n",
       "    }\n",
       "\n",
       "    .dataframe thead th {\n",
       "        text-align: right;\n",
       "    }\n",
       "</style>\n",
       "<table border=\"1\" class=\"dataframe\">\n",
       "  <thead>\n",
       "    <tr style=\"text-align: right;\">\n",
       "      <th></th>\n",
       "      <th>target</th>\n",
       "      <th>messages</th>\n",
       "      <th>clean_data</th>\n",
       "      <th>clean_lemma</th>\n",
       "      <th>encoded</th>\n",
       "    </tr>\n",
       "  </thead>\n",
       "  <tbody>\n",
       "    <tr>\n",
       "      <th>0</th>\n",
       "      <td>0</td>\n",
       "      <td>Go until jurong point, crazy.. Available only ...</td>\n",
       "      <td>go until jurong point crazy available only in ...</td>\n",
       "      <td>jurong point crazy available bugis n great wor...</td>\n",
       "      <td>[1, 212, 411, 487, 846, 32, 52, 263, 847, 74, ...</td>\n",
       "    </tr>\n",
       "    <tr>\n",
       "      <th>1</th>\n",
       "      <td>0</td>\n",
       "      <td>Ok lar... Joking wif u oni...</td>\n",
       "      <td>ok lar joking wif u oni</td>\n",
       "      <td>ok lar joking wif u oni</td>\n",
       "      <td>[10, 176, 1, 264, 2, 1]</td>\n",
       "    </tr>\n",
       "    <tr>\n",
       "      <th>2</th>\n",
       "      <td>1</td>\n",
       "      <td>Free entry in 2 a wkly comp to win FA Cup fina...</td>\n",
       "      <td>free entry in 2 a wkly comp to win fa cup fina...</td>\n",
       "      <td>free entry 2 wkly comp win fa cup final tkts 2...</td>\n",
       "      <td>[11, 335, 3, 698, 699, 39, 1, 978, 460, 1, 1, ...</td>\n",
       "    </tr>\n",
       "    <tr>\n",
       "      <th>3</th>\n",
       "      <td>0</td>\n",
       "      <td>U dun say so early hor... U c already then say...</td>\n",
       "      <td>u dun say so early hor u c already then say</td>\n",
       "      <td>u dun early hor u c</td>\n",
       "      <td>[2, 114, 135, 1, 2, 76]</td>\n",
       "    </tr>\n",
       "    <tr>\n",
       "      <th>4</th>\n",
       "      <td>0</td>\n",
       "      <td>Nah I don't think he goes to usf, he lives aro...</td>\n",
       "      <td>nah i don't think he goes to usf he lives arou...</td>\n",
       "      <td>nah think usf live</td>\n",
       "      <td>[660, 19, 603, 153]</td>\n",
       "    </tr>\n",
       "    <tr>\n",
       "      <th>...</th>\n",
       "      <td>...</td>\n",
       "      <td>...</td>\n",
       "      <td>...</td>\n",
       "      <td>...</td>\n",
       "      <td>...</td>\n",
       "    </tr>\n",
       "    <tr>\n",
       "      <th>5164</th>\n",
       "      <td>1</td>\n",
       "      <td>This is the 2nd time we have tried 2 contact u...</td>\n",
       "      <td>this is the 2nd time we have tried 2 contact u...</td>\n",
       "      <td>2nd time try 2 contact u u win å750 pound priz...</td>\n",
       "      <td>[272, 15, 48, 3, 93, 2, 2, 39, 1, 300, 72, 3, ...</td>\n",
       "    </tr>\n",
       "    <tr>\n",
       "      <th>5165</th>\n",
       "      <td>0</td>\n",
       "      <td>Will Ì_ b going to esplanade fr home?</td>\n",
       "      <td>will ì b going to esplanade fr home</td>\n",
       "      <td>ì b esplanade fr home</td>\n",
       "      <td>[37, 97, 1, 536, 23]</td>\n",
       "    </tr>\n",
       "    <tr>\n",
       "      <th>5166</th>\n",
       "      <td>0</td>\n",
       "      <td>Pity, * was in mood for that. So...any other s...</td>\n",
       "      <td>pity was in mood for that soany other suggestions</td>\n",
       "      <td>pity mood soany suggestion</td>\n",
       "      <td>[1, 1, 1, 1]</td>\n",
       "    </tr>\n",
       "    <tr>\n",
       "      <th>5167</th>\n",
       "      <td>0</td>\n",
       "      <td>The guy did some bitching but I acted like i'd...</td>\n",
       "      <td>the guy did some bitching but i acted like i'd...</td>\n",
       "      <td>guy bitching act like interested buy week free</td>\n",
       "      <td>[110, 1, 1, 12, 1, 85, 40, 11]</td>\n",
       "    </tr>\n",
       "    <tr>\n",
       "      <th>5168</th>\n",
       "      <td>0</td>\n",
       "      <td>Rofl. Its true to its name</td>\n",
       "      <td>rofl its true to its name</td>\n",
       "      <td>rofl true</td>\n",
       "      <td>[1, 359]</td>\n",
       "    </tr>\n",
       "  </tbody>\n",
       "</table>\n",
       "<p>5169 rows × 5 columns</p>\n",
       "</div>"
      ],
      "text/plain": [
       "      target                                           messages  \\\n",
       "0          0  Go until jurong point, crazy.. Available only ...   \n",
       "1          0                      Ok lar... Joking wif u oni...   \n",
       "2          1  Free entry in 2 a wkly comp to win FA Cup fina...   \n",
       "3          0  U dun say so early hor... U c already then say...   \n",
       "4          0  Nah I don't think he goes to usf, he lives aro...   \n",
       "...      ...                                                ...   \n",
       "5164       1  This is the 2nd time we have tried 2 contact u...   \n",
       "5165       0              Will Ì_ b going to esplanade fr home?   \n",
       "5166       0  Pity, * was in mood for that. So...any other s...   \n",
       "5167       0  The guy did some bitching but I acted like i'd...   \n",
       "5168       0                         Rofl. Its true to its name   \n",
       "\n",
       "                                             clean_data  \\\n",
       "0     go until jurong point crazy available only in ...   \n",
       "1                               ok lar joking wif u oni   \n",
       "2     free entry in 2 a wkly comp to win fa cup fina...   \n",
       "3           u dun say so early hor u c already then say   \n",
       "4     nah i don't think he goes to usf he lives arou...   \n",
       "...                                                 ...   \n",
       "5164  this is the 2nd time we have tried 2 contact u...   \n",
       "5165                will ì b going to esplanade fr home   \n",
       "5166  pity was in mood for that soany other suggestions   \n",
       "5167  the guy did some bitching but i acted like i'd...   \n",
       "5168                          rofl its true to its name   \n",
       "\n",
       "                                            clean_lemma  \\\n",
       "0     jurong point crazy available bugis n great wor...   \n",
       "1                               ok lar joking wif u oni   \n",
       "2     free entry 2 wkly comp win fa cup final tkts 2...   \n",
       "3                                   u dun early hor u c   \n",
       "4                                    nah think usf live   \n",
       "...                                                 ...   \n",
       "5164  2nd time try 2 contact u u win å750 pound priz...   \n",
       "5165                              ì b esplanade fr home   \n",
       "5166                         pity mood soany suggestion   \n",
       "5167     guy bitching act like interested buy week free   \n",
       "5168                                          rofl true   \n",
       "\n",
       "                                                encoded  \n",
       "0     [1, 212, 411, 487, 846, 32, 52, 263, 847, 74, ...  \n",
       "1                               [10, 176, 1, 264, 2, 1]  \n",
       "2     [11, 335, 3, 698, 699, 39, 1, 978, 460, 1, 1, ...  \n",
       "3                               [2, 114, 135, 1, 2, 76]  \n",
       "4                                   [660, 19, 603, 153]  \n",
       "...                                                 ...  \n",
       "5164  [272, 15, 48, 3, 93, 2, 2, 39, 1, 300, 72, 3, ...  \n",
       "5165                               [37, 97, 1, 536, 23]  \n",
       "5166                                       [1, 1, 1, 1]  \n",
       "5167                     [110, 1, 1, 12, 1, 85, 40, 11]  \n",
       "5168                                           [1, 359]  \n",
       "\n",
       "[5169 rows x 5 columns]"
      ]
     },
     "execution_count": 42,
     "metadata": {},
     "output_type": "execute_result"
    }
   ],
   "source": [
    "# Tokenize the cleaned messages using the Keras tokenizer to assign a value to each word, keeping only the 1,000 most common words.\n",
    "\n",
    "tokenizer = tf.keras.preprocessing.text.Tokenizer(num_words=1000, oov_token=\"out_of_vocab\") # instanciate the tokenizer. all words not included in the 1,000 most common words will be considered out of vocab\n",
    "tokenizer.fit_on_texts(df2[\"clean_lemma\"])\n",
    "\n",
    "df2.loc[:, \"encoded\"] = tokenizer.texts_to_sequences(df2[\"clean_lemma\"])\n",
    "df2"
   ]
  },
  {
   "cell_type": "code",
   "execution_count": 66,
   "metadata": {},
   "outputs": [],
   "source": [
    "def save_tokenizer(tokenizer, save_dir, filename=\"tokenizer.json\"):\n",
    "    os.makedirs(save_dir, exist_ok=True)\n",
    "    tokenizer_path = os.path.join(save_dir, filename)\n",
    "    with open(tokenizer_path, \"w\") as f:\n",
    "        f.write(tokenizer.to_json())\n",
    "    print(f\"✅ Tokenizer saved to: {tokenizer_path}\")"
   ]
  },
  {
   "cell_type": "code",
   "execution_count": 67,
   "metadata": {},
   "outputs": [
    {
     "name": "stdout",
     "output_type": "stream",
     "text": [
      "✅ Tokenizer saved to: Models_trained/tokenizer_baseline_model.json\n"
     ]
    }
   ],
   "source": [
    "save_tokenizer(tokenizer, \"Models_trained\", filename=\"tokenizer_baseline_model.json\")"
   ]
  },
  {
   "cell_type": "code",
   "execution_count": 43,
   "metadata": {},
   "outputs": [
    {
     "name": "stdout",
     "output_type": "stream",
     "text": [
      "avg message len 7.823370090926678\n",
      "max message len 74\n"
     ]
    }
   ],
   "source": [
    "# How are encoded messages lengths distributed?\n",
    "sequence_lens = [len(seq) for seq in df2[\"encoded\"]]\n",
    "print(\"avg message len\",np.mean(sequence_lens))\n",
    "print(\"max message len\",np.max(sequence_lens))"
   ]
  },
  {
   "cell_type": "code",
   "execution_count": 44,
   "metadata": {},
   "outputs": [],
   "source": [
    "# As all our sequences don't have the same number of values, we need to add zero padding at end of our sequences (padding=\"post\") so they all have equal length.\n",
    "max_len = np.max(sequence_lens)\n",
    "messages_pad = tf.keras.preprocessing.sequence.pad_sequences(df2[\"encoded\"], maxlen=max_len, padding='post')"
   ]
  },
  {
   "cell_type": "code",
   "execution_count": 45,
   "metadata": {},
   "outputs": [],
   "source": [
    "# Set seed for reproducibility\n",
    "seed = 42\n",
    "random.seed(seed)\n",
    "np.random.seed(seed)\n",
    "tf.random.set_seed(seed)\n",
    "\n",
    "# Divide our dataset into Train and Validation sets. A sample of 70% will be saved for training set, and 30% for test sets.\n",
    "xtrain, xval, ytrain, yval = train_test_split(messages_pad,df2[\"target\"], stratify=df2[\"target\"], test_size=0.3, random_state=seed)\n"
   ]
  },
  {
   "cell_type": "code",
   "execution_count": 46,
   "metadata": {},
   "outputs": [],
   "source": [
    "# Form a tensor dataset by using a function call from_tensor_slices\n",
    "# that converts tuples of arrays into tensor datasets\n",
    "train = tf.data.Dataset.from_tensor_slices((xtrain, ytrain))\n",
    "val = tf.data.Dataset.from_tensor_slices((xval, yval))\n",
    "\n",
    "# Let's shuffle our tensor dataset and divide it to 64 batches and shuffle with seed for reproducibility.\n",
    "# According to the size of our dataset and the memory of our GPU, 64 is a quite common batch size for a first test.\n",
    "# Larger batch sizes can speed up the training process because they make better use of parallel processing capabilities of modern hardware. However, they might converge to a less optimal solution compared to smaller batch sizes.\n",
    "# Smaller batch sizes can introduce more noise in the training process, which can sometimes help the model generalize better. However, too small batch sizes can make the training process unstable.\n",
    "train_batch = train.shuffle(len(train), seed = seed).batch(64)\n",
    "val_batch = val.shuffle(len(val), seed = seed).batch(64)"
   ]
  },
  {
   "cell_type": "markdown",
   "metadata": {},
   "source": [
    "# 3. Building and training the model"
   ]
  },
  {
   "cell_type": "code",
   "execution_count": 47,
   "metadata": {},
   "outputs": [
    {
     "name": "stdout",
     "output_type": "stream",
     "text": [
      "Vocab size :  8176\n",
      "max message len :  74\n"
     ]
    }
   ],
   "source": [
    "vocab_size = len(tokenizer.word_index) + 1  # Adding 1 accounts for the padding token 0\n",
    "max_len = messages_pad.shape[1]  # messages length after padding\n",
    "print(\"Vocab size : \",vocab_size)\n",
    "print(\"max message len : \",max_len)"
   ]
  },
  {
   "cell_type": "code",
   "execution_count": 48,
   "metadata": {},
   "outputs": [],
   "source": [
    "# Architecture of the model. This is a simple sequential model.\n",
    "\n",
    "model = tf.keras.Sequential([ # to create neural network models with layers stacked on top of each other\n",
    "  tf.keras.layers.Embedding(input_dim=vocab_size, output_dim=50, name=\"embedding\"),  # Converts tokens into dense vectors of 50 dimensions\n",
    "  tf.keras.layers.GlobalAveragePooling1D(),  # Averages the word embeddings across the sentence to reduce dimensions\n",
    "  tf.keras.layers.Dense(16, activation='relu'),  # Hidden Dense layer with ReLU activation\n",
    "  tf.keras.layers.Dense(1, activation=\"sigmoid\")  # Output layer (Binary Classification)\n",
    "])\n",
    "\n",
    "optimizer = Adam(learning_rate=0.001)  # Default learning rate for the Adam optimizer\n",
    "# with this optimizer, the learning rate will marginally adapt itself according to the value of the gradient.\n",
    "# increasing when the gradient gets smaller to accelerate training\n",
    "# decreasing when the gradient get bigger in order to prevent the training steps to go over a potential minimum.\n",
    "\n",
    "# Binary Cross Entropy is a loss function ideal for binary classification problems\n",
    "model.compile(\n",
    "    optimizer=optimizer,\n",
    "    loss=tf.keras.losses.BinaryCrossentropy(),\n",
    "    metrics=[\n",
    "        tf.keras.metrics.BinaryAccuracy(name='accuracy'),\n",
    "    ]\n",
    ")\n",
    "\n"
   ]
  },
  {
   "cell_type": "code",
   "execution_count": 49,
   "metadata": {},
   "outputs": [
    {
     "name": "stdout",
     "output_type": "stream",
     "text": [
      "Epoch 1/50\n"
     ]
    },
    {
     "name": "stderr",
     "output_type": "stream",
     "text": [
      "2025-07-08 16:26:18.668311: I tensorflow/core/common_runtime/executor.cc:1197] [/device:CPU:0] (DEBUG INFO) Executor start aborting (this does not indicate an error and you can ignore this message): INVALID_ARGUMENT: You must feed a value for placeholder tensor 'Placeholder/_1' with dtype int64 and shape [3618]\n",
      "\t [[{{node Placeholder/_1}}]]\n",
      "2025-07-08 16:26:18.668561: I tensorflow/core/common_runtime/executor.cc:1197] [/device:CPU:0] (DEBUG INFO) Executor start aborting (this does not indicate an error and you can ignore this message): INVALID_ARGUMENT: You must feed a value for placeholder tensor 'Placeholder/_1' with dtype int64 and shape [3618]\n",
      "\t [[{{node Placeholder/_1}}]]\n"
     ]
    },
    {
     "name": "stdout",
     "output_type": "stream",
     "text": [
      "57/57 [==============================] - 1s 5ms/step - loss: 0.5772 - accuracy: 0.8737 - val_loss: 0.4555 - val_accuracy: 0.8736\n",
      "Epoch 2/50\n",
      "18/57 [========>.....................] - ETA: 0s - loss: 0.4221 - accuracy: 0.8733"
     ]
    },
    {
     "name": "stderr",
     "output_type": "stream",
     "text": [
      "2025-07-08 16:26:19.215011: I tensorflow/core/common_runtime/executor.cc:1197] [/device:CPU:0] (DEBUG INFO) Executor start aborting (this does not indicate an error and you can ignore this message): INVALID_ARGUMENT: You must feed a value for placeholder tensor 'Placeholder/_1' with dtype int64 and shape [1551]\n",
      "\t [[{{node Placeholder/_1}}]]\n",
      "2025-07-08 16:26:19.215230: I tensorflow/core/common_runtime/executor.cc:1197] [/device:CPU:0] (DEBUG INFO) Executor start aborting (this does not indicate an error and you can ignore this message): INVALID_ARGUMENT: You must feed a value for placeholder tensor 'Placeholder/_1' with dtype int64 and shape [1551]\n",
      "\t [[{{node Placeholder/_1}}]]\n"
     ]
    },
    {
     "name": "stdout",
     "output_type": "stream",
     "text": [
      "57/57 [==============================] - 0s 3ms/step - loss: 0.3795 - accuracy: 0.8737 - val_loss: 0.3446 - val_accuracy: 0.8736\n",
      "Epoch 3/50\n",
      "57/57 [==============================] - 0s 4ms/step - loss: 0.3329 - accuracy: 0.8737 - val_loss: 0.3257 - val_accuracy: 0.8736\n",
      "Epoch 4/50\n",
      "57/57 [==============================] - 0s 3ms/step - loss: 0.3095 - accuracy: 0.8737 - val_loss: 0.2990 - val_accuracy: 0.8736\n",
      "Epoch 5/50\n",
      "57/57 [==============================] - 0s 3ms/step - loss: 0.2723 - accuracy: 0.8734 - val_loss: 0.2543 - val_accuracy: 0.8743\n",
      "Epoch 6/50\n",
      "57/57 [==============================] - 0s 5ms/step - loss: 0.2197 - accuracy: 0.8958 - val_loss: 0.2038 - val_accuracy: 0.9117\n",
      "Epoch 7/50\n",
      "57/57 [==============================] - 0s 4ms/step - loss: 0.1736 - accuracy: 0.9334 - val_loss: 0.1686 - val_accuracy: 0.9381\n",
      "Epoch 8/50\n",
      "57/57 [==============================] - 0s 4ms/step - loss: 0.1425 - accuracy: 0.9544 - val_loss: 0.1451 - val_accuracy: 0.9478\n",
      "Epoch 9/50\n",
      "57/57 [==============================] - 0s 4ms/step - loss: 0.1214 - accuracy: 0.9632 - val_loss: 0.1286 - val_accuracy: 0.9529\n",
      "Epoch 10/50\n",
      "57/57 [==============================] - 0s 4ms/step - loss: 0.1058 - accuracy: 0.9668 - val_loss: 0.1159 - val_accuracy: 0.9587\n",
      "Epoch 11/50\n",
      "57/57 [==============================] - 0s 4ms/step - loss: 0.0925 - accuracy: 0.9713 - val_loss: 0.1050 - val_accuracy: 0.9626\n",
      "Epoch 12/50\n",
      "57/57 [==============================] - 0s 3ms/step - loss: 0.0823 - accuracy: 0.9748 - val_loss: 0.0979 - val_accuracy: 0.9639\n",
      "Epoch 13/50\n",
      "57/57 [==============================] - 0s 3ms/step - loss: 0.0736 - accuracy: 0.9782 - val_loss: 0.0889 - val_accuracy: 0.9671\n",
      "Epoch 14/50\n",
      "57/57 [==============================] - 0s 4ms/step - loss: 0.0658 - accuracy: 0.9804 - val_loss: 0.0873 - val_accuracy: 0.9671\n",
      "Epoch 15/50\n",
      "57/57 [==============================] - 0s 3ms/step - loss: 0.0603 - accuracy: 0.9818 - val_loss: 0.0794 - val_accuracy: 0.9755\n",
      "Epoch 16/50\n",
      "57/57 [==============================] - 0s 4ms/step - loss: 0.0537 - accuracy: 0.9840 - val_loss: 0.0867 - val_accuracy: 0.9684\n",
      "Epoch 17/50\n",
      "57/57 [==============================] - 0s 4ms/step - loss: 0.0509 - accuracy: 0.9848 - val_loss: 0.0722 - val_accuracy: 0.9768\n",
      "Epoch 18/50\n",
      "57/57 [==============================] - 0s 4ms/step - loss: 0.0468 - accuracy: 0.9867 - val_loss: 0.0698 - val_accuracy: 0.9781\n",
      "Epoch 19/50\n",
      "57/57 [==============================] - 0s 3ms/step - loss: 0.0429 - accuracy: 0.9878 - val_loss: 0.0690 - val_accuracy: 0.9774\n",
      "Epoch 20/50\n",
      "57/57 [==============================] - 0s 3ms/step - loss: 0.0399 - accuracy: 0.9881 - val_loss: 0.0673 - val_accuracy: 0.9781\n",
      "Epoch 21/50\n",
      "57/57 [==============================] - 0s 3ms/step - loss: 0.0375 - accuracy: 0.9887 - val_loss: 0.0662 - val_accuracy: 0.9800\n",
      "Epoch 22/50\n",
      "57/57 [==============================] - 0s 4ms/step - loss: 0.0364 - accuracy: 0.9892 - val_loss: 0.0653 - val_accuracy: 0.9800\n",
      "Epoch 23/50\n",
      "57/57 [==============================] - 0s 4ms/step - loss: 0.0336 - accuracy: 0.9898 - val_loss: 0.0641 - val_accuracy: 0.9807\n",
      "Epoch 24/50\n",
      "57/57 [==============================] - 0s 4ms/step - loss: 0.0314 - accuracy: 0.9903 - val_loss: 0.0765 - val_accuracy: 0.9742\n",
      "Epoch 25/50\n",
      "57/57 [==============================] - 0s 3ms/step - loss: 0.0303 - accuracy: 0.9900 - val_loss: 0.0632 - val_accuracy: 0.9807\n",
      "Epoch 26/50\n",
      "57/57 [==============================] - 0s 3ms/step - loss: 0.0283 - accuracy: 0.9917 - val_loss: 0.0698 - val_accuracy: 0.9794\n",
      "Epoch 27/50\n",
      "57/57 [==============================] - 0s 4ms/step - loss: 0.0265 - accuracy: 0.9923 - val_loss: 0.0647 - val_accuracy: 0.9800\n",
      "Epoch 28/50\n",
      "57/57 [==============================] - 0s 4ms/step - loss: 0.0250 - accuracy: 0.9925 - val_loss: 0.0664 - val_accuracy: 0.9800\n",
      "Epoch 29/50\n",
      "57/57 [==============================] - 0s 3ms/step - loss: 0.0244 - accuracy: 0.9920 - val_loss: 0.0668 - val_accuracy: 0.9800\n",
      "Epoch 30/50\n",
      "57/57 [==============================] - 0s 3ms/step - loss: 0.0224 - accuracy: 0.9939 - val_loss: 0.0741 - val_accuracy: 0.9787\n",
      "Epoch 31/50\n",
      "57/57 [==============================] - 0s 3ms/step - loss: 0.0222 - accuracy: 0.9928 - val_loss: 0.0643 - val_accuracy: 0.9794\n",
      "Epoch 32/50\n",
      "57/57 [==============================] - 0s 3ms/step - loss: 0.0210 - accuracy: 0.9934 - val_loss: 0.0652 - val_accuracy: 0.9800\n",
      "Epoch 33/50\n",
      "57/57 [==============================] - 0s 4ms/step - loss: 0.0199 - accuracy: 0.9934 - val_loss: 0.0652 - val_accuracy: 0.9787\n",
      "Epoch 34/50\n",
      "57/57 [==============================] - 0s 3ms/step - loss: 0.0193 - accuracy: 0.9950 - val_loss: 0.0723 - val_accuracy: 0.9787\n",
      "Epoch 35/50\n",
      "57/57 [==============================] - 0s 3ms/step - loss: 0.0182 - accuracy: 0.9950 - val_loss: 0.0663 - val_accuracy: 0.9774\n",
      "Epoch 36/50\n",
      "57/57 [==============================] - 0s 4ms/step - loss: 0.0180 - accuracy: 0.9950 - val_loss: 0.0694 - val_accuracy: 0.9794\n",
      "Epoch 37/50\n",
      "57/57 [==============================] - 0s 4ms/step - loss: 0.0168 - accuracy: 0.9959 - val_loss: 0.0769 - val_accuracy: 0.9787\n",
      "Epoch 38/50\n",
      "57/57 [==============================] - 0s 4ms/step - loss: 0.0161 - accuracy: 0.9959 - val_loss: 0.0696 - val_accuracy: 0.9787\n",
      "Epoch 39/50\n",
      "57/57 [==============================] - 0s 3ms/step - loss: 0.0157 - accuracy: 0.9961 - val_loss: 0.0779 - val_accuracy: 0.9787\n",
      "Epoch 40/50\n",
      "57/57 [==============================] - 0s 4ms/step - loss: 0.0150 - accuracy: 0.9961 - val_loss: 0.0697 - val_accuracy: 0.9787\n",
      "Epoch 41/50\n",
      "57/57 [==============================] - 0s 4ms/step - loss: 0.0144 - accuracy: 0.9964 - val_loss: 0.0757 - val_accuracy: 0.9800\n",
      "Epoch 42/50\n",
      "57/57 [==============================] - 0s 3ms/step - loss: 0.0140 - accuracy: 0.9964 - val_loss: 0.0719 - val_accuracy: 0.9787\n",
      "Epoch 43/50\n",
      "57/57 [==============================] - 0s 3ms/step - loss: 0.0134 - accuracy: 0.9970 - val_loss: 0.0860 - val_accuracy: 0.9787\n",
      "Epoch 44/50\n",
      "57/57 [==============================] - 0s 3ms/step - loss: 0.0145 - accuracy: 0.9970 - val_loss: 0.0826 - val_accuracy: 0.9787\n",
      "Epoch 45/50\n",
      "57/57 [==============================] - 0s 4ms/step - loss: 0.0128 - accuracy: 0.9970 - val_loss: 0.0792 - val_accuracy: 0.9800\n",
      "Epoch 46/50\n",
      "57/57 [==============================] - 0s 4ms/step - loss: 0.0127 - accuracy: 0.9967 - val_loss: 0.0768 - val_accuracy: 0.9794\n",
      "Epoch 47/50\n",
      "57/57 [==============================] - 0s 4ms/step - loss: 0.0119 - accuracy: 0.9967 - val_loss: 0.0774 - val_accuracy: 0.9794\n",
      "Epoch 48/50\n",
      "57/57 [==============================] - 0s 4ms/step - loss: 0.0113 - accuracy: 0.9967 - val_loss: 0.0828 - val_accuracy: 0.9794\n",
      "Epoch 49/50\n",
      "57/57 [==============================] - 0s 3ms/step - loss: 0.0109 - accuracy: 0.9972 - val_loss: 0.0820 - val_accuracy: 0.9800\n",
      "Epoch 50/50\n",
      "57/57 [==============================] - 0s 3ms/step - loss: 0.0108 - accuracy: 0.9975 - val_loss: 0.0830 - val_accuracy: 0.9800\n",
      "⏱️ Training took 10.97 seconds (0.18 minutes)\n"
     ]
    }
   ],
   "source": [
    "# Let's start training our model :\n",
    "# Setting 50 epochs\n",
    "# Using validation_data to measure overfitting during training,\n",
    "# the model will not train on this data but compute the performance metrics on it at the end of each epoch\n",
    "\n",
    "start_time = time.time()\n",
    "\n",
    "history = model.fit(\n",
    "    train_batch,\n",
    "    epochs=50,\n",
    "    validation_data=val_batch\n",
    ")\n",
    "\n",
    "end_time = time.time()\n",
    "training_time = end_time - start_time\n",
    "\n",
    "print(f\"⏱️ Training took {training_time:.2f} seconds ({training_time/60:.2f} minutes)\")\n"
   ]
  },
  {
   "cell_type": "code",
   "execution_count": 50,
   "metadata": {},
   "outputs": [],
   "source": [
    "def save_model_to_dir(model, save_dir, filename=\"model.joblib\"):\n",
    "    os.makedirs(save_dir, exist_ok=True)\n",
    "    model_path = os.path.join(save_dir, filename)\n",
    "    if os.path.exists(model_path):\n",
    "        os.remove(model_path)\n",
    "    joblib.dump(model, model_path)\n",
    "    print(f\"✅ Model saved in : {model_path}\")"
   ]
  },
  {
   "cell_type": "code",
   "execution_count": 51,
   "metadata": {},
   "outputs": [
    {
     "name": "stdout",
     "output_type": "stream",
     "text": [
      "✅ Model saved in : Models_trained/Baseline_model.joblib\n"
     ]
    }
   ],
   "source": [
    "save_model_to_dir(model=model, save_dir=\"Models_trained\", filename=\"Baseline_model.joblib\")"
   ]
  },
  {
   "cell_type": "code",
   "execution_count": 52,
   "metadata": {},
   "outputs": [
    {
     "name": "stdout",
     "output_type": "stream",
     "text": [
      "Model: \"sequential_2\"\n",
      "_________________________________________________________________\n",
      " Layer (type)                Output Shape              Param #   \n",
      "=================================================================\n",
      " embedding (Embedding)       (None, None, 50)          408800    \n",
      "                                                                 \n",
      " global_average_pooling1d_2   (None, 50)               0         \n",
      " (GlobalAveragePooling1D)                                        \n",
      "                                                                 \n",
      " dense_4 (Dense)             (None, 16)                816       \n",
      "                                                                 \n",
      " dense_5 (Dense)             (None, 1)                 17        \n",
      "                                                                 \n",
      "=================================================================\n",
      "Total params: 409,633\n",
      "Trainable params: 409,633\n",
      "Non-trainable params: 0\n",
      "_________________________________________________________________\n"
     ]
    }
   ],
   "source": [
    "model.summary()"
   ]
  },
  {
   "cell_type": "markdown",
   "metadata": {},
   "source": [
    "# 4. Model evaluation"
   ]
  },
  {
   "cell_type": "code",
   "execution_count": 53,
   "metadata": {},
   "outputs": [
    {
     "data": {
      "image/png": "[encoded data removed]",
      "text/plain": [
       "<Figure size 1200x500 with 2 Axes>"
      ]
     },
     "metadata": {},
     "output_type": "display_data"
    }
   ],
   "source": [
    "# Extract history\n",
    "history_dict = history.history\n",
    "\n",
    "# Create the plot\n",
    "plt.figure(figsize=(12, 5))\n",
    "\n",
    "# 📉 Plot Loss\n",
    "plt.subplot(1, 2, 1)\n",
    "plt.plot(history_dict[\"loss\"], label=\"Train Loss\")\n",
    "plt.plot(history_dict[\"val_loss\"], label=\"Validation Loss\")\n",
    "plt.xlabel(\"Epochs\")\n",
    "plt.ylabel(\"Loss\")\n",
    "plt.title(\"Loss Over Epochs\")\n",
    "plt.legend()\n",
    "\n",
    "# 📈 Plot Accuracy\n",
    "plt.subplot(1, 2, 2)\n",
    "\n",
    "# Handle accuracy key depending on the task\n",
    "acc_key = \"accuracy\" if \"accuracy\" in history_dict else \"binary_accuracy\"\n",
    "val_acc_key = \"val_accuracy\" if \"val_accuracy\" in history_dict else \"val_binary_accuracy\"\n",
    "\n",
    "plt.plot(history_dict[acc_key], label=\"Train Accuracy\")\n",
    "plt.plot(history_dict[val_acc_key], label=\"Validation Accuracy\")\n",
    "plt.xlabel(\"Epochs\")\n",
    "plt.ylabel(\"Accuracy\")\n",
    "plt.title(\"Accuracy Over Epochs\")\n",
    "plt.legend()\n",
    "\n",
    "plt.tight_layout()\n",
    "plt.show()\n"
   ]
  },
  {
   "cell_type": "markdown",
   "metadata": {},
   "source": [
    "Our model is learning fast but it starts to overfit around the 15th epoch."
   ]
  },
  {
   "cell_type": "code",
   "execution_count": 62,
   "metadata": {},
   "outputs": [],
   "source": [
    "# Function model evaluation for baseline model\n",
    "   \n",
    "def evaluate_model(model, xtrain, ytrain, xval, yval, model_name=\"baseline\", output_dir=\"Evaluations\"):    \n",
    "    # Prediction\n",
    "    y_pred_train = model.predict(xtrain)\n",
    "    y_pred_train = np.where(y_pred_train < 0.5, 0, 1)\n",
    "    y_pred_val = model.predict(xval)\n",
    "    y_pred_val = np.where(y_pred_val < 0.5, 0, 1)\n",
    "\n",
    "    # Classification report\n",
    "    report_train = classification_report(ytrain, y_pred_train, output_dict=True)\n",
    "    report_val = classification_report(yval, y_pred_val, output_dict=True)\n",
    "\n",
    "    print(\"Classification_report - Training set\")\n",
    "    print(classification_report(ytrain, y_pred_train))\n",
    "\n",
    "    print(\"Classification_report - Validation set\")\n",
    "    print(classification_report(yval, y_pred_val))\n",
    "\n",
    "    # Heatmaps confusion matrix\n",
    "    cm_train = confusion_matrix(ytrain, y_pred_train)\n",
    "    sns.heatmap(cm_train, annot=True, fmt='d', cmap='Blues', xticklabels=['Ham', 'Spam'], yticklabels=['Ham', 'Spam'])\n",
    "    plt.title(f\"Confusion Matrix - Training ({model_name})\")\n",
    "    plt.xlabel(\"Predicted\")\n",
    "    plt.ylabel(\"Actual\")\n",
    "    plt.show()\n",
    "    print()\n",
    "    cm_val = confusion_matrix(yval, y_pred_val)\n",
    "    sns.heatmap(cm_val, annot=True, fmt='d', cmap='Blues', xticklabels=['Ham', 'Spam'], yticklabels=['Ham', 'Spam'])\n",
    "    plt.title(f\"Confusion Matrix - Validation ({model_name})\")\n",
    "    plt.xlabel(\"Predicted\")\n",
    "    plt.ylabel(\"Actual\")\n",
    "    plt.show()\n",
    "\n",
    "    # Metrics summary\n",
    "    summary_train = {\n",
    "        \"accuracy\": accuracy_score(ytrain, y_pred_train),\n",
    "        \"precision\": report_train[\"weighted avg\"][\"precision\"],\n",
    "        \"recall\": report_train[\"weighted avg\"][\"recall\"],\n",
    "        \"f1-score\": report_train[\"weighted avg\"][\"f1-score\"]\n",
    "    }\n",
    "\n",
    "    summary_val = {\n",
    "        \"accuracy\": accuracy_score(yval, y_pred_val),\n",
    "        \"precision\": report_val[\"weighted avg\"][\"precision\"],\n",
    "        \"recall\": report_val[\"weighted avg\"][\"recall\"],\n",
    "        \"f1-score\": report_val[\"weighted avg\"][\"f1-score\"]\n",
    "    }\n",
    "\n",
    "    # Create a folder if needed\n",
    "    os.makedirs(output_dir, exist_ok=True)\n",
    "\n",
    "    # Save metrics in a .json\n",
    "    metrics = {\n",
    "        \"model_name\": model_name,\n",
    "        \"train_metrics\": report_train,\n",
    "        \"val_metrics\": report_val,\n",
    "        \"train_summary\": summary_train,\n",
    "        \"val_summary\": summary_val\n",
    "    }\n",
    "\n",
    "    # Path\n",
    "    json_path = os.path.join(output_dir, f\"{model_name}_metrics.json\")\n",
    "\n",
    "    # Saving\n",
    "    with open(json_path, \"w\") as f:\n",
    "        json.dump(metrics, f, indent=4)\n",
    "\n",
    "    print(f\"✅ Metrics saved to {json_path}\")"
   ]
  },
  {
   "cell_type": "code",
   "execution_count": 63,
   "metadata": {},
   "outputs": [
    {
     "name": "stdout",
     "output_type": "stream",
     "text": [
      " 51/114 [============>.................] - ETA: 0s"
     ]
    },
    {
     "name": "stdout",
     "output_type": "stream",
     "text": [
      "114/114 [==============================] - 0s 1ms/step\n",
      "49/49 [==============================] - 0s 972us/step\n",
      "Classification_report - Training set\n",
      "              precision    recall  f1-score   support\n",
      "\n",
      "           0       1.00      1.00      1.00      3161\n",
      "           1       1.00      0.98      0.99       457\n",
      "\n",
      "    accuracy                           1.00      3618\n",
      "   macro avg       1.00      0.99      0.99      3618\n",
      "weighted avg       1.00      1.00      1.00      3618\n",
      "\n",
      "Classification_report - Validation set\n",
      "              precision    recall  f1-score   support\n",
      "\n",
      "           0       0.98      1.00      0.99      1355\n",
      "           1       0.98      0.86      0.92       196\n",
      "\n",
      "    accuracy                           0.98      1551\n",
      "   macro avg       0.98      0.93      0.95      1551\n",
      "weighted avg       0.98      0.98      0.98      1551\n",
      "\n"
     ]
    },
    {
     "data": {
      "image/png": "[encoded data removed]",
      "text/plain": [
       "<Figure size 640x480 with 2 Axes>"
      ]
     },
     "metadata": {},
     "output_type": "display_data"
    },
    {
     "name": "stdout",
     "output_type": "stream",
     "text": [
      "\n"
     ]
    },
    {
     "data": {
      "image/png": "[encoded data removed]",
      "text/plain": [
       "<Figure size 640x480 with 2 Axes>"
      ]
     },
     "metadata": {},
     "output_type": "display_data"
    },
    {
     "name": "stdout",
     "output_type": "stream",
     "text": [
      "✅ Metrics saved to Evaluations/baseline_model_metrics.json\n"
     ]
    }
   ],
   "source": [
    "evaluate_model(model, xtrain, ytrain, xval, yval, model_name=\"baseline_model\")\n"
   ]
  },
  {
   "cell_type": "markdown",
   "metadata": {},
   "source": [
    "Indeed, if our scores are high on both the training and validation sets, our model is **slightly overfitting**, given that F1_train is 0.99 and F1_val is 0.92. Additionally, the recall for targeting spam is lower on the validation set (0.86 vs. 0.98 on the training set), meaning that the model is **less effective at identifying true positives (Spams)**."
   ]
  },
  {
   "cell_type": "code",
   "execution_count": null,
   "metadata": {},
   "outputs": [],
   "source": []
  }
 ],
 "metadata": {
  "language_info": {
   "name": "python"
  }
 },
 "nbformat": 4,
 "nbformat_minor": 2
}
